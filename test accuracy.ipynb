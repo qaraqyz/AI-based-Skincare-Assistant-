{
 "cells": [
  {
   "cell_type": "code",
   "execution_count": 1,
   "metadata": {
    "collapsed": true,
    "ExecuteTime": {
     "end_time": "2023-05-25T14:58:19.230581Z",
     "start_time": "2023-05-25T14:58:01.350163Z"
    }
   },
   "outputs": [
    {
     "name": "stderr",
     "output_type": "stream",
     "text": [
      "2023-05-25 20:58:08.343489: I tensorflow/core/platform/cpu_feature_guard.cc:182] This TensorFlow binary is optimized to use available CPU instructions in performance-critical operations.\n",
      "To enable the following instructions: AVX2 FMA, in other operations, rebuild TensorFlow with the appropriate compiler flags.\n"
     ]
    }
   ],
   "source": [
    "import matplotlib.pyplot as plt\n",
    "import numpy as np\n",
    "import os\n",
    "import PIL\n",
    "import tensorflow as tf\n",
    "from tensorflow import keras\n",
    "from keras import layers\n",
    "from keras.models import Sequential"
   ]
  },
  {
   "cell_type": "code",
   "execution_count": 2,
   "outputs": [],
   "source": [
    "import pathlib\n",
    "\n",
    "data_dir = pathlib.Path('/Users/dilnazahmetzan/Downloads/capstone')"
   ],
   "metadata": {
    "collapsed": false,
    "ExecuteTime": {
     "end_time": "2023-05-25T14:58:19.245824Z",
     "start_time": "2023-05-25T14:58:19.236478Z"
    }
   }
  },
  {
   "cell_type": "code",
   "execution_count": 3,
   "outputs": [
    {
     "name": "stdout",
     "output_type": "stream",
     "text": [
      "777\n"
     ]
    }
   ],
   "source": [
    "image_count = len(list(data_dir.glob('*/*.jpg')))\n",
    "print(image_count)"
   ],
   "metadata": {
    "collapsed": false,
    "ExecuteTime": {
     "end_time": "2023-05-25T14:58:19.282286Z",
     "start_time": "2023-05-25T14:58:19.248843Z"
    }
   }
  },
  {
   "cell_type": "code",
   "execution_count": 4,
   "outputs": [],
   "source": [
    "import pathlib\n",
    "data_dir = pathlib.Path(data_dir)"
   ],
   "metadata": {
    "collapsed": false,
    "ExecuteTime": {
     "end_time": "2023-05-25T15:05:00.218213Z",
     "start_time": "2023-05-25T15:05:00.141412Z"
    }
   }
  },
  {
   "cell_type": "code",
   "execution_count": 5,
   "outputs": [],
   "source": [
    "batch_size = 32\n",
    "img_height = 224\n",
    "img_width = 224"
   ],
   "metadata": {
    "collapsed": false,
    "ExecuteTime": {
     "end_time": "2023-05-25T15:05:01.967604Z",
     "start_time": "2023-05-25T15:05:01.923553Z"
    }
   }
  },
  {
   "cell_type": "code",
   "execution_count": 6,
   "outputs": [],
   "source": [
    "from pathlib import Path\n",
    "import imghdr\n",
    "\n",
    "image_extensions = [\".png\", \".jpg\",\".jpeg\"]  # add there all your images file extensions\n",
    "\n",
    "img_type_accepted_by_tf = [\"bmp\", \"gif\", \"jpeg\", \"png\"]\n",
    "for filepath in Path(data_dir).rglob(\"*\"):\n",
    "    if filepath.suffix.lower() in image_extensions:\n",
    "        img_type = imghdr.what(filepath)\n",
    "        if img_type is None:\n",
    "            print(f\"{filepath} is not an image\")\n",
    "        elif img_type not in img_type_accepted_by_tf:\n",
    "            print(f\"{filepath} is a {img_type}, not accepted by TensorFlow\")"
   ],
   "metadata": {
    "collapsed": false,
    "ExecuteTime": {
     "end_time": "2023-05-25T15:05:05.259365Z",
     "start_time": "2023-05-25T15:05:04.277281Z"
    }
   }
  },
  {
   "cell_type": "code",
   "execution_count": 7,
   "outputs": [
    {
     "name": "stdout",
     "output_type": "stream",
     "text": [
      "Found 832 files belonging to 5 classes.\n",
      "Using 666 files for training.\n"
     ]
    }
   ],
   "source": [
    "train_ds = tf.keras.utils.image_dataset_from_directory(\n",
    "    data_dir,\n",
    "    validation_split=0.2,\n",
    "    subset=\"training\",\n",
    "    seed=123,\n",
    "    image_size=(img_height, img_width),\n",
    "    batch_size=batch_size)"
   ],
   "metadata": {
    "collapsed": false,
    "ExecuteTime": {
     "end_time": "2023-05-25T15:05:07.654567Z",
     "start_time": "2023-05-25T15:05:07.008797Z"
    }
   }
  },
  {
   "cell_type": "code",
   "execution_count": 8,
   "outputs": [
    {
     "name": "stdout",
     "output_type": "stream",
     "text": [
      "Found 832 files belonging to 5 classes.\n",
      "Using 166 files for validation.\n"
     ]
    }
   ],
   "source": [
    "val_ds = tf.keras.utils.image_dataset_from_directory(\n",
    "    data_dir,\n",
    "    validation_split=0.2,\n",
    "    subset=\"validation\",\n",
    "    seed=123,\n",
    "    image_size=(img_height, img_width),\n",
    "    batch_size=batch_size)"
   ],
   "metadata": {
    "collapsed": false,
    "ExecuteTime": {
     "end_time": "2023-05-25T15:05:10.269856Z",
     "start_time": "2023-05-25T15:05:10.040851Z"
    }
   }
  },
  {
   "cell_type": "code",
   "execution_count": 9,
   "outputs": [
    {
     "name": "stdout",
     "output_type": "stream",
     "text": [
      "['acne', 'blackhead', 'carcinoma', 'norm', 'wrinkles']\n"
     ]
    }
   ],
   "source": [
    "class_names = train_ds.class_names\n",
    "print(class_names)"
   ],
   "metadata": {
    "collapsed": false,
    "ExecuteTime": {
     "end_time": "2023-05-25T15:05:12.744204Z",
     "start_time": "2023-05-25T15:05:12.685909Z"
    }
   }
  },
  {
   "cell_type": "code",
   "execution_count": 10,
   "outputs": [
    {
     "name": "stderr",
     "output_type": "stream",
     "text": [
      "2023-05-25 21:05:17.166356: I tensorflow/core/common_runtime/executor.cc:1197] [/device:CPU:0] (DEBUG INFO) Executor start aborting (this does not indicate an error and you can ignore this message): INVALID_ARGUMENT: You must feed a value for placeholder tensor 'Placeholder/_4' with dtype int32 and shape [666]\n",
      "\t [[{{node Placeholder/_4}}]]\n",
      "2023-05-25 21:05:17.167260: I tensorflow/core/common_runtime/executor.cc:1197] [/device:CPU:0] (DEBUG INFO) Executor start aborting (this does not indicate an error and you can ignore this message): INVALID_ARGUMENT: You must feed a value for placeholder tensor 'Placeholder/_4' with dtype int32 and shape [666]\n",
      "\t [[{{node Placeholder/_4}}]]\n"
     ]
    },
    {
     "name": "stdout",
     "output_type": "stream",
     "text": [
      "(32, 224, 224, 3)\n",
      "(32,)\n"
     ]
    }
   ],
   "source": [
    "for image_batch, labels_batch in train_ds:\n",
    "    print(image_batch.shape)\n",
    "    print(labels_batch.shape)\n",
    "    break"
   ],
   "metadata": {
    "collapsed": false,
    "ExecuteTime": {
     "end_time": "2023-05-25T15:05:21.165039Z",
     "start_time": "2023-05-25T15:05:17.135986Z"
    }
   }
  },
  {
   "cell_type": "code",
   "execution_count": 11,
   "outputs": [],
   "source": [
    "AUTOTUNE = tf.data.AUTOTUNE\n",
    "train_ds = train_ds.cache().shuffle(1000).prefetch(buffer_size=AUTOTUNE)\n",
    "val_ds = val_ds.cache().prefetch(buffer_size=AUTOTUNE)"
   ],
   "metadata": {
    "collapsed": false,
    "ExecuteTime": {
     "end_time": "2023-05-25T15:05:21.464028Z",
     "start_time": "2023-05-25T15:05:21.237730Z"
    }
   }
  },
  {
   "cell_type": "markdown",
   "source": [],
   "metadata": {
    "collapsed": false
   }
  },
  {
   "cell_type": "code",
   "execution_count": 12,
   "outputs": [],
   "source": [
    "normalization_layer = layers.Rescaling(1./255)"
   ],
   "metadata": {
    "collapsed": false,
    "ExecuteTime": {
     "end_time": "2023-05-25T15:05:24.301405Z",
     "start_time": "2023-05-25T15:05:24.181230Z"
    }
   }
  },
  {
   "cell_type": "code",
   "execution_count": 13,
   "outputs": [
    {
     "name": "stderr",
     "output_type": "stream",
     "text": [
      "2023-05-25 21:05:27.858471: I tensorflow/core/common_runtime/executor.cc:1197] [/device:CPU:0] (DEBUG INFO) Executor start aborting (this does not indicate an error and you can ignore this message): INVALID_ARGUMENT: You must feed a value for placeholder tensor 'Placeholder/_0' with dtype string and shape [666]\n",
      "\t [[{{node Placeholder/_0}}]]\n",
      "2023-05-25 21:05:27.859336: I tensorflow/core/common_runtime/executor.cc:1197] [/device:CPU:0] (DEBUG INFO) Executor start aborting (this does not indicate an error and you can ignore this message): INVALID_ARGUMENT: You must feed a value for placeholder tensor 'Placeholder/_0' with dtype string and shape [666]\n",
      "\t [[{{node Placeholder/_0}}]]\n"
     ]
    },
    {
     "name": "stdout",
     "output_type": "stream",
     "text": [
      "0.4885855 0.9203981\n"
     ]
    }
   ],
   "source": [
    "normalized_ds = train_ds.map(lambda x, y: (normalization_layer(x), y))\n",
    "image_batch, labels_batch = next(iter(normalized_ds))\n",
    "first_image = image_batch[0]\n",
    "# Notice the pixel values are now in `[0,1]`.\n",
    "print(np.min(first_image), np.max(first_image))"
   ],
   "metadata": {
    "collapsed": false,
    "ExecuteTime": {
     "end_time": "2023-05-25T15:05:33.822237Z",
     "start_time": "2023-05-25T15:05:27.728771Z"
    }
   }
  },
  {
   "cell_type": "code",
   "execution_count": 14,
   "outputs": [],
   "source": [
    "num_classes=len(class_names)"
   ],
   "metadata": {
    "collapsed": false,
    "ExecuteTime": {
     "end_time": "2023-05-25T15:05:33.824555Z",
     "start_time": "2023-05-25T15:05:33.784499Z"
    }
   }
  },
  {
   "cell_type": "code",
   "execution_count": 15,
   "outputs": [],
   "source": [
    "data_augmentation = keras.Sequential(\n",
    "    [\n",
    "        layers.RandomFlip(\"horizontal\",\n",
    "                          input_shape=(img_height,\n",
    "                                       img_width,\n",
    "                                       3)),\n",
    "        layers.RandomRotation(0.1),\n",
    "        layers.RandomZoom(0.1),\n",
    "        layers.RandomBrightness(0.1),\n",
    "    ]\n",
    ")\n",
    "inputs = keras.Input(shape=image_batch.shape)"
   ],
   "metadata": {
    "collapsed": false,
    "ExecuteTime": {
     "end_time": "2023-05-25T15:05:38.404602Z",
     "start_time": "2023-05-25T15:05:37.609469Z"
    }
   }
  },
  {
   "cell_type": "code",
   "execution_count": 16,
   "outputs": [],
   "source": [
    "model = Sequential([\n",
    "    layers.Rescaling(1./255),\n",
    "    layers.Conv2D(16, 3, padding='same', activation='relu'),\n",
    "    layers.MaxPooling2D(),\n",
    "    layers.Conv2D(32, 3, padding='same', activation='relu'),\n",
    "    layers.MaxPooling2D(),\n",
    "    layers.Conv2D(64, 3, padding='same', activation='relu'),\n",
    "    layers.MaxPooling2D(),\n",
    "    layers.Dropout(0.2,input_shape=(224,224,3)), #change to 0.2 and try\n",
    "    layers.Flatten(),\n",
    "    layers.Dense(128, activation='relu'),\n",
    "    layers.Dense(num_classes, activation='softmax')\n",
    "])"
   ],
   "metadata": {
    "collapsed": false,
    "ExecuteTime": {
     "end_time": "2023-05-25T15:05:44.109072Z",
     "start_time": "2023-05-25T15:05:43.923181Z"
    }
   }
  },
  {
   "cell_type": "code",
   "execution_count": 17,
   "outputs": [],
   "source": [
    "model.compile(optimizer='adam',\n",
    "              loss=tf.keras.losses.SparseCategoricalCrossentropy(from_logits=True),\n",
    "              metrics=['accuracy'])"
   ],
   "metadata": {
    "collapsed": false,
    "ExecuteTime": {
     "end_time": "2023-05-25T15:05:47.312709Z",
     "start_time": "2023-05-25T15:05:46.929834Z"
    }
   }
  },
  {
   "cell_type": "code",
   "execution_count": 43,
   "outputs": [
    {
     "name": "stdout",
     "output_type": "stream",
     "text": [
      "Model: \"sequential_4\"\n",
      "_________________________________________________________________\n",
      " Layer (type)                Output Shape              Param #   \n",
      "=================================================================\n",
      " sequential_2 (Sequential)   (None, 224, 224, 3)       0         \n",
      "                                                                 \n",
      " rescaling_4 (Rescaling)     (None, 224, 224, 3)       0         \n",
      "                                                                 \n",
      " conv2d_6 (Conv2D)           (None, 224, 224, 16)      448       \n",
      "                                                                 \n",
      " max_pooling2d_6 (MaxPooling  (None, 112, 112, 16)     0         \n",
      " 2D)                                                             \n",
      "                                                                 \n",
      " conv2d_7 (Conv2D)           (None, 112, 112, 32)      4640      \n",
      "                                                                 \n",
      " max_pooling2d_7 (MaxPooling  (None, 56, 56, 32)       0         \n",
      " 2D)                                                             \n",
      "                                                                 \n",
      " conv2d_8 (Conv2D)           (None, 56, 56, 64)        18496     \n",
      "                                                                 \n",
      " max_pooling2d_8 (MaxPooling  (None, 28, 28, 64)       0         \n",
      " 2D)                                                             \n",
      "                                                                 \n",
      " dropout_2 (Dropout)         (None, 28, 28, 64)        0         \n",
      "                                                                 \n",
      " flatten_2 (Flatten)         (None, 50176)             0         \n",
      "                                                                 \n",
      " dense_4 (Dense)             (None, 128)               6422656   \n",
      "                                                                 \n",
      " dense_5 (Dense)             (None, 5)                 645       \n",
      "                                                                 \n",
      "=================================================================\n",
      "Total params: 6,446,885\n",
      "Trainable params: 6,446,885\n",
      "Non-trainable params: 0\n",
      "_________________________________________________________________\n"
     ]
    }
   ],
   "source": [
    "model.summary()"
   ],
   "metadata": {
    "collapsed": false,
    "ExecuteTime": {
     "end_time": "2023-05-25T11:30:14.700580Z",
     "start_time": "2023-05-25T11:30:14.440338Z"
    }
   }
  },
  {
   "cell_type": "code",
   "execution_count": 18,
   "outputs": [],
   "source": [
    "train_callbacks = [\n",
    "    keras.callbacks.EarlyStopping(\n",
    "        monitor=\"val_accuracy\",\n",
    "\n",
    "    )\n",
    "]\n",
    "my_callbacks = [\n",
    "    keras.callbacks.ModelCheckpoint(filepath='mod.{val_accuracy:.2f}.h5')\n",
    "]"
   ],
   "metadata": {
    "collapsed": false,
    "ExecuteTime": {
     "end_time": "2023-05-25T15:05:54.849704Z",
     "start_time": "2023-05-25T15:05:54.823342Z"
    }
   }
  },
  {
   "cell_type": "code",
   "execution_count": 19,
   "outputs": [],
   "source": [
    "import os\n",
    "os.environ['TF_CPP_MIN_LOG_LEVEL'] = '2'"
   ],
   "metadata": {
    "collapsed": false,
    "ExecuteTime": {
     "end_time": "2023-05-25T15:05:59.487302Z",
     "start_time": "2023-05-25T15:05:59.457174Z"
    }
   }
  },
  {
   "cell_type": "code",
   "execution_count": 20,
   "outputs": [
    {
     "name": "stdout",
     "output_type": "stream",
     "text": [
      "Epoch 1/27\n"
     ]
    },
    {
     "name": "stderr",
     "output_type": "stream",
     "text": [
      "2023-05-25 21:06:03.926519: I tensorflow/core/common_runtime/executor.cc:1197] [/device:CPU:0] (DEBUG INFO) Executor start aborting (this does not indicate an error and you can ignore this message): INVALID_ARGUMENT: You must feed a value for placeholder tensor 'Placeholder/_0' with dtype string and shape [666]\n",
      "\t [[{{node Placeholder/_0}}]]\n",
      "2023-05-25 21:06:03.927561: I tensorflow/core/common_runtime/executor.cc:1197] [/device:CPU:0] (DEBUG INFO) Executor start aborting (this does not indicate an error and you can ignore this message): INVALID_ARGUMENT: You must feed a value for placeholder tensor 'Placeholder/_4' with dtype int32 and shape [666]\n",
      "\t [[{{node Placeholder/_4}}]]\n",
      "/Users/dilnazahmetzan/anaconda3/envs/capstone/lib/python3.10/site-packages/keras/backend.py:5612: UserWarning: \"`sparse_categorical_crossentropy` received `from_logits=True`, but the `output` argument was produced by a Softmax activation and thus does not represent logits. Was this intended?\n",
      "  output, from_logits = _get_logits(\n"
     ]
    },
    {
     "name": "stdout",
     "output_type": "stream",
     "text": [
      "21/21 [==============================] - ETA: 0s - loss: 2.1187 - accuracy: 0.2432"
     ]
    },
    {
     "name": "stderr",
     "output_type": "stream",
     "text": [
      "2023-05-25 21:06:31.115326: I tensorflow/core/common_runtime/executor.cc:1197] [/device:CPU:0] (DEBUG INFO) Executor start aborting (this does not indicate an error and you can ignore this message): INVALID_ARGUMENT: You must feed a value for placeholder tensor 'Placeholder/_0' with dtype string and shape [166]\n",
      "\t [[{{node Placeholder/_0}}]]\n",
      "2023-05-25 21:06:31.116148: I tensorflow/core/common_runtime/executor.cc:1197] [/device:CPU:0] (DEBUG INFO) Executor start aborting (this does not indicate an error and you can ignore this message): INVALID_ARGUMENT: You must feed a value for placeholder tensor 'Placeholder/_0' with dtype string and shape [166]\n",
      "\t [[{{node Placeholder/_0}}]]\n"
     ]
    },
    {
     "name": "stdout",
     "output_type": "stream",
     "text": [
      "21/21 [==============================] - 30s 1s/step - loss: 2.1187 - accuracy: 0.2432 - val_loss: 1.5214 - val_accuracy: 0.2831\n",
      "Epoch 2/27\n",
      "21/21 [==============================] - 23s 1s/step - loss: 1.4516 - accuracy: 0.3874 - val_loss: 1.2140 - val_accuracy: 0.5120\n",
      "Epoch 3/27\n",
      "21/21 [==============================] - 23s 1s/step - loss: 1.2304 - accuracy: 0.4895 - val_loss: 1.0570 - val_accuracy: 0.6084\n",
      "Epoch 4/27\n",
      "21/21 [==============================] - 22s 1s/step - loss: 1.0467 - accuracy: 0.6066 - val_loss: 1.0363 - val_accuracy: 0.5843\n",
      "Epoch 5/27\n",
      "21/21 [==============================] - 23s 1s/step - loss: 0.9763 - accuracy: 0.6186 - val_loss: 1.0607 - val_accuracy: 0.6024\n",
      "Epoch 6/27\n",
      "21/21 [==============================] - 23s 1s/step - loss: 0.7976 - accuracy: 0.7042 - val_loss: 1.0002 - val_accuracy: 0.6024\n",
      "Epoch 7/27\n",
      "21/21 [==============================] - 24s 1s/step - loss: 0.6747 - accuracy: 0.7462 - val_loss: 0.9496 - val_accuracy: 0.6506\n",
      "Epoch 8/27\n",
      "11/21 [==============>...............] - ETA: 10s - loss: 0.6303 - accuracy: 0.7543"
     ]
    },
    {
     "name": "stderr",
     "output_type": "stream",
     "text": [
      "\n",
      "KeyboardInterrupt\n",
      "\n"
     ]
    }
   ],
   "source": [
    "epochs = 27\n",
    "history = model.fit(\n",
    "    train_ds,\n",
    "    validation_data=val_ds,\n",
    "    epochs=epochs\n",
    ")"
   ],
   "metadata": {
    "collapsed": false,
    "ExecuteTime": {
     "end_time": "2023-05-25T15:09:23.708786Z",
     "start_time": "2023-05-25T15:06:03.901421Z"
    }
   }
  },
  {
   "cell_type": "code",
   "execution_count": 55,
   "outputs": [],
   "source": [
    "model.save(\"model_test.h5\")"
   ],
   "metadata": {
    "collapsed": false,
    "ExecuteTime": {
     "end_time": "2023-05-25T06:40:16.988095Z",
     "start_time": "2023-05-25T06:40:16.282662Z"
    }
   }
  },
  {
   "cell_type": "code",
   "execution_count": 60,
   "outputs": [],
   "source": [
    "!tensorflowjs_converter \\\n",
    "    --input_format=keras \\\n",
    "    model_test.h5 \\\n",
    "    model_test2"
   ],
   "metadata": {
    "collapsed": false,
    "ExecuteTime": {
     "end_time": "2023-05-25T06:44:46.987364Z",
     "start_time": "2023-05-25T06:44:31.647483Z"
    }
   }
  },
  {
   "cell_type": "code",
   "execution_count": 59,
   "outputs": [
    {
     "name": "stdout",
     "output_type": "stream",
     "text": [
      "WARNING:tensorflow:Compiled the loaded model, but the compiled metrics have yet to be built. `model.compile_metrics` will be empty until you train or evaluate the model.\r\n",
      "WARNING:absl:Found untraced functions such as _jit_compiled_convolution_op, _jit_compiled_convolution_op, _jit_compiled_convolution_op while saving (showing 3 of 3). These functions will not be directly callable after loading.\r\n"
     ]
    }
   ],
   "source": [
    "!tensorflowjs_converter \\\n",
    "    --input_format keras \\\n",
    "    --output_format=tfjs_graph_model\\\n",
    "    model_test.h5 \\\n",
    "    model_test"
   ],
   "metadata": {
    "collapsed": false,
    "ExecuteTime": {
     "end_time": "2023-05-25T06:43:45.533962Z",
     "start_time": "2023-05-25T06:43:20.910606Z"
    }
   }
  },
  {
   "cell_type": "code",
   "execution_count": 54,
   "outputs": [
    {
     "ename": "AttributeError",
     "evalue": "'Sequential' object has no attribute 'load_model'",
     "output_type": "error",
     "traceback": [
      "\u001B[0;31m---------------------------------------------------------------------------\u001B[0m",
      "\u001B[0;31mAttributeError\u001B[0m                            Traceback (most recent call last)",
      "Cell \u001B[0;32mIn[54], line 1\u001B[0m\n\u001B[0;32m----> 1\u001B[0m \u001B[43mmodel\u001B[49m\u001B[38;5;241;43m.\u001B[39;49m\u001B[43mload_model\u001B[49m(\u001B[38;5;124m'\u001B[39m\u001B[38;5;124mmodel_test.h5\u001B[39m\u001B[38;5;124m'\u001B[39m)\n\u001B[1;32m      2\u001B[0m tf\u001B[38;5;241m.\u001B[39mkeras\u001B[38;5;241m.\u001B[39mutils\u001B[38;5;241m.\u001B[39mload_img(\n\u001B[1;32m      3\u001B[0m     \u001B[38;5;124m'\u001B[39m\u001B[38;5;124m/Users/dilnazahmetzan/Downloads/blk.jpg\u001B[39m\u001B[38;5;124m'\u001B[39m,\n\u001B[1;32m      4\u001B[0m     grayscale\u001B[38;5;241m=\u001B[39m\u001B[38;5;28;01mFalse\u001B[39;00m,\n\u001B[0;32m   (...)\u001B[0m\n\u001B[1;32m      8\u001B[0m     keep_aspect_ratio\u001B[38;5;241m=\u001B[39m\u001B[38;5;28;01mFalse\u001B[39;00m,\n\u001B[1;32m      9\u001B[0m )\n",
      "\u001B[0;31mAttributeError\u001B[0m: 'Sequential' object has no attribute 'load_model'"
     ]
    }
   ],
   "source": [
    "tf.keras.utils.load_img(\n",
    "    '/Users/dilnazahmetzan/Downloads/blk.jpg',\n",
    "    grayscale=False,\n",
    "    color_mode=\"rgb\",\n",
    "    target_size=None,\n",
    "    interpolation=\"nearest\",\n",
    "    keep_aspect_ratio=False,\n",
    ")"
   ],
   "metadata": {
    "collapsed": false,
    "ExecuteTime": {
     "end_time": "2023-05-25T06:39:19.905573Z",
     "start_time": "2023-05-25T06:39:19.735914Z"
    }
   }
  },
  {
   "cell_type": "code",
   "execution_count": 26,
   "outputs": [],
   "source": [
    "\n",
    "model = keras.models.load_model('model.0.73.h5')"
   ],
   "metadata": {
    "collapsed": false,
    "ExecuteTime": {
     "end_time": "2023-05-25T06:07:05.229072Z",
     "start_time": "2023-05-25T06:07:03.206252Z"
    }
   }
  },
  {
   "cell_type": "code",
   "execution_count": 32,
   "outputs": [
    {
     "name": "stdout",
     "output_type": "stream",
     "text": [
      "1/1 [==============================] - 0s 54ms/step\n"
     ]
    }
   ],
   "source": [
    "image = tf.keras.utils.load_img('/Users/dilnazahmetzan/Downloads/capstone/acne/istockphoto-174763312-612x612.jpg',target_size =(224,224))\n",
    "input_arr = tf.keras.utils.img_to_array(image)\n",
    "input_arr = np.array([input_arr])  # Convert single image to a batch.\n",
    "predictions = model.predict(input_arr)"
   ],
   "metadata": {
    "collapsed": false,
    "ExecuteTime": {
     "end_time": "2023-05-25T06:11:00.967196Z",
     "start_time": "2023-05-25T06:11:00.682382Z"
    }
   }
  },
  {
   "cell_type": "code",
   "execution_count": 29,
   "outputs": [
    {
     "name": "stdout",
     "output_type": "stream",
     "text": [
      "[[ 3.992947    0.23258507  2.9504135  -0.41028017]]\n"
     ]
    }
   ],
   "source": [
    "print(predictions)"
   ],
   "metadata": {
    "collapsed": false,
    "ExecuteTime": {
     "end_time": "2023-05-25T06:07:56.812188Z",
     "start_time": "2023-05-25T06:07:56.789356Z"
    }
   }
  },
  {
   "cell_type": "code",
   "execution_count": 33,
   "outputs": [
    {
     "name": "stdout",
     "output_type": "stream",
     "text": [
      "[[3.3456638  1.8703495  0.9135755  0.54006696]]\n"
     ]
    }
   ],
   "source": [
    "print(predictions)"
   ],
   "metadata": {
    "collapsed": false,
    "ExecuteTime": {
     "end_time": "2023-05-25T06:11:16.361428Z",
     "start_time": "2023-05-25T06:11:16.191452Z"
    }
   }
  },
  {
   "cell_type": "code",
   "execution_count": null,
   "outputs": [],
   "source": [
    "import tensorflowjs"
   ],
   "metadata": {
    "collapsed": false
   }
  },
  {
   "cell_type": "code",
   "execution_count": null,
   "outputs": [],
   "source": [
    "!tensorflowjs_converter \\ --input_format keras \\--output_format=tfjs_graph_model G:/capstone/test.h5 G:/capstone/Test/"
   ],
   "metadata": {
    "collapsed": false
   }
  },
  {
   "cell_type": "code",
   "execution_count": 65,
   "outputs": [],
   "source": [
    "!tensorflowjs_converter \\\n",
    "    --input_format=keras \\\n",
    "    model.0.72.h5 \\\n",
    "    my_tfjs_model_new"
   ],
   "metadata": {
    "collapsed": false,
    "ExecuteTime": {
     "end_time": "2023-05-23T12:41:49.236555Z",
     "start_time": "2023-05-23T12:41:28.500720Z"
    }
   }
  },
  {
   "cell_type": "code",
   "execution_count": 30,
   "outputs": [
    {
     "ename": "AttributeError",
     "evalue": "'_PrefetchDataset' object has no attribute 'DTypes'",
     "output_type": "error",
     "traceback": [
      "\u001B[0;31m---------------------------------------------------------------------------\u001B[0m",
      "\u001B[0;31mAttributeError\u001B[0m                            Traceback (most recent call last)",
      "Cell \u001B[0;32mIn[30], line 1\u001B[0m\n\u001B[0;32m----> 1\u001B[0m \u001B[38;5;28mprint\u001B[39m(\u001B[43mtrain_ds\u001B[49m\u001B[38;5;241;43m.\u001B[39;49m\u001B[43mDTypes\u001B[49m)\n",
      "\u001B[0;31mAttributeError\u001B[0m: '_PrefetchDataset' object has no attribute 'DTypes'"
     ]
    }
   ],
   "source": [
    "print(train_ds.DTypes)"
   ],
   "metadata": {
    "collapsed": false,
    "ExecuteTime": {
     "end_time": "2023-05-22T16:16:37.655599Z",
     "start_time": "2023-05-22T16:16:37.590846Z"
    }
   }
  },
  {
   "cell_type": "code",
   "execution_count": 45,
   "outputs": [],
   "source": [
    "model.save('/Users/dilnazahmetzan/DataspellProjects/capstone/model75.h5')"
   ],
   "metadata": {
    "collapsed": false,
    "ExecuteTime": {
     "end_time": "2023-05-22T13:19:15.966269Z",
     "start_time": "2023-05-22T13:19:15.917671Z"
    }
   }
  },
  {
   "cell_type": "code",
   "execution_count": 43,
   "outputs": [
    {
     "name": "stderr",
     "output_type": "stream",
     "text": [
      "WARNING:absl:Found untraced functions such as _jit_compiled_convolution_op, _jit_compiled_convolution_op, _jit_compiled_convolution_op while saving (showing 3 of 3). These functions will not be directly callable after loading.\n"
     ]
    },
    {
     "name": "stdout",
     "output_type": "stream",
     "text": [
      "INFO:tensorflow:Assets written to: /Users/dilnazimanbaeva/DataspellProjects/capstone/model75/assets\n"
     ]
    },
    {
     "name": "stderr",
     "output_type": "stream",
     "text": [
      "INFO:tensorflow:Assets written to: /Users/dilnazimanbaeva/DataspellProjects/capstone/model75/assets\n"
     ]
    }
   ],
   "source": [
    "model.save('/Users/dilnazahmetzan/DataspellProjects/capstone/model75')"
   ],
   "metadata": {
    "collapsed": false,
    "ExecuteTime": {
     "end_time": "2023-05-22T13:16:18.576816Z",
     "start_time": "2023-05-22T13:16:17.717493Z"
    }
   }
  },
  {
   "cell_type": "code",
   "execution_count": null,
   "outputs": [],
   "source": [
    "model.predict()"
   ],
   "metadata": {
    "collapsed": false
   }
  },
  {
   "cell_type": "code",
   "execution_count": 39,
   "outputs": [
    {
     "data": {
      "text/plain": "<Figure size 800x800 with 2 Axes>",
      "image/png": "[encoded data removed]"
     },
     "metadata": {},
     "output_type": "display_data"
    }
   ],
   "source": [
    "acc = history.history['accuracy']#basic code from tf\n",
    "val_acc = history.history['val_accuracy']\n",
    "\n",
    "loss = history.history['loss']\n",
    "val_loss = history.history['val_loss']\n",
    "\n",
    "epochs_range = range(epochs)\n",
    "\n",
    "plt.figure(figsize=(8, 8))\n",
    "plt.subplot(1, 2, 1)\n",
    "plt.plot(epochs_range, acc, label='Training Accuracy')\n",
    "plt.plot(epochs_range, val_acc, label='Validation Accuracy')\n",
    "plt.legend(loc='lower right')\n",
    "plt.title('Training and Validation Accuracy history2')\n",
    "\n",
    "plt.subplot(1, 2, 2)\n",
    "plt.plot(epochs_range, loss, label='Training Loss')\n",
    "plt.plot(epochs_range, val_loss, label='Validation Loss')\n",
    "plt.legend(loc='upper right')\n",
    "plt.title('Training and Validation Loss')\n",
    "plt.show()"
   ],
   "metadata": {
    "collapsed": false,
    "ExecuteTime": {
     "end_time": "2023-05-25T10:47:50.310553Z",
     "start_time": "2023-05-25T10:47:48.717751Z"
    }
   }
  },
  {
   "cell_type": "code",
   "execution_count": 12,
   "outputs": [
    {
     "ename": "FileNotFoundError",
     "evalue": "[Errno 2] No such file or directory: '/Users/dilnazahmetzan/PycharmProjects/pythonProject5/model.json'",
     "output_type": "error",
     "traceback": [
      "\u001B[0;31m---------------------------------------------------------------------------\u001B[0m",
      "\u001B[0;31mFileNotFoundError\u001B[0m                         Traceback (most recent call last)",
      "Cell \u001B[0;32mIn[12], line 5\u001B[0m\n\u001B[1;32m      3\u001B[0m \u001B[38;5;28;01mfrom\u001B[39;00m \u001B[38;5;21;01mtensorflow\u001B[39;00m\u001B[38;5;21;01m.\u001B[39;00m\u001B[38;5;21;01mpython\u001B[39;00m\u001B[38;5;21;01m.\u001B[39;00m\u001B[38;5;21;01mkeras\u001B[39;00m\u001B[38;5;21;01m.\u001B[39;00m\u001B[38;5;21;01mmodels\u001B[39;00m \u001B[38;5;28;01mimport\u001B[39;00m model_from_json\n\u001B[1;32m      4\u001B[0m \u001B[38;5;28;01mfrom\u001B[39;00m \u001B[38;5;21;01mtensorflow\u001B[39;00m\u001B[38;5;21;01m.\u001B[39;00m\u001B[38;5;21;01mpython\u001B[39;00m\u001B[38;5;21;01m.\u001B[39;00m\u001B[38;5;21;01mkeras\u001B[39;00m\u001B[38;5;21;01m.\u001B[39;00m\u001B[38;5;21;01mmodels\u001B[39;00m \u001B[38;5;28;01mimport\u001B[39;00m load_model\n\u001B[0;32m----> 5\u001B[0m json_file \u001B[38;5;241m=\u001B[39m \u001B[38;5;28;43mopen\u001B[39;49m\u001B[43m(\u001B[49m\u001B[38;5;124;43m'\u001B[39;49m\u001B[38;5;124;43m/Users/dilnazahmetzan/PycharmProjects/pythonProject5/model.json\u001B[39;49m\u001B[38;5;124;43m'\u001B[39;49m\u001B[43m,\u001B[49m\u001B[43m \u001B[49m\u001B[38;5;124;43m'\u001B[39;49m\u001B[38;5;124;43mr\u001B[39;49m\u001B[38;5;124;43m'\u001B[39;49m\u001B[43m)\u001B[49m\n\u001B[1;32m      6\u001B[0m loaded_model_json \u001B[38;5;241m=\u001B[39m json_file\u001B[38;5;241m.\u001B[39mread()\n\u001B[1;32m      7\u001B[0m json_file\u001B[38;5;241m.\u001B[39mclose()\n",
      "File \u001B[0;32m~/anaconda3/envs/capstone/lib/python3.10/site-packages/IPython/core/interactiveshell.py:284\u001B[0m, in \u001B[0;36m_modified_open\u001B[0;34m(file, *args, **kwargs)\u001B[0m\n\u001B[1;32m    277\u001B[0m \u001B[38;5;28;01mif\u001B[39;00m file \u001B[38;5;129;01min\u001B[39;00m {\u001B[38;5;241m0\u001B[39m, \u001B[38;5;241m1\u001B[39m, \u001B[38;5;241m2\u001B[39m}:\n\u001B[1;32m    278\u001B[0m     \u001B[38;5;28;01mraise\u001B[39;00m \u001B[38;5;167;01mValueError\u001B[39;00m(\n\u001B[1;32m    279\u001B[0m         \u001B[38;5;124mf\u001B[39m\u001B[38;5;124m\"\u001B[39m\u001B[38;5;124mIPython won\u001B[39m\u001B[38;5;124m'\u001B[39m\u001B[38;5;124mt let you open fd=\u001B[39m\u001B[38;5;132;01m{\u001B[39;00mfile\u001B[38;5;132;01m}\u001B[39;00m\u001B[38;5;124m by default \u001B[39m\u001B[38;5;124m\"\u001B[39m\n\u001B[1;32m    280\u001B[0m         \u001B[38;5;124m\"\u001B[39m\u001B[38;5;124mas it is likely to crash IPython. If you know what you are doing, \u001B[39m\u001B[38;5;124m\"\u001B[39m\n\u001B[1;32m    281\u001B[0m         \u001B[38;5;124m\"\u001B[39m\u001B[38;5;124myou can use builtins\u001B[39m\u001B[38;5;124m'\u001B[39m\u001B[38;5;124m open.\u001B[39m\u001B[38;5;124m\"\u001B[39m\n\u001B[1;32m    282\u001B[0m     )\n\u001B[0;32m--> 284\u001B[0m \u001B[38;5;28;01mreturn\u001B[39;00m \u001B[43mio_open\u001B[49m\u001B[43m(\u001B[49m\u001B[43mfile\u001B[49m\u001B[43m,\u001B[49m\u001B[43m \u001B[49m\u001B[38;5;241;43m*\u001B[39;49m\u001B[43margs\u001B[49m\u001B[43m,\u001B[49m\u001B[43m \u001B[49m\u001B[38;5;241;43m*\u001B[39;49m\u001B[38;5;241;43m*\u001B[39;49m\u001B[43mkwargs\u001B[49m\u001B[43m)\u001B[49m\n",
      "\u001B[0;31mFileNotFoundError\u001B[0m: [Errno 2] No such file or directory: '/Users/dilnazahmetzan/PycharmProjects/pythonProject5/model.json'"
     ]
    }
   ],
   "source": [
    "from tensorflow.python.keras.models import model_from_json\n",
    "from tensorflow.python.keras.models import load_model\n",
    "from tensorflow.python.keras.models import model_from_json\n",
    "from tensorflow.python.keras.models import load_model\n",
    "json_file = open('/Users/dilnazahmetzan/PycharmProjects/pythonProject5/model.json', 'r')\n",
    "loaded_model_json = json_file.read()\n",
    "json_file.close()\n",
    "loaded_model = model_from_json(loaded_model_json)\n",
    "loaded_model.load_weights(\"model79.h5\")\n"
   ],
   "metadata": {
    "collapsed": false,
    "ExecuteTime": {
     "end_time": "2023-05-22T15:15:10.125760Z",
     "start_time": "2023-05-22T15:15:10.002520Z"
    }
   }
  },
  {
   "cell_type": "code",
   "execution_count": null,
   "outputs": [],
   "source": [
    "model.save('model_78.h5')"
   ],
   "metadata": {
    "collapsed": false
   }
  },
  {
   "cell_type": "code",
   "execution_count": null,
   "outputs": [],
   "source": [
    "data_augmentation = keras.Sequential(\n",
    "    [\n",
    "        layers.RandomFlip(\"horizontal\",\n",
    "                          input_shape=(img_height,\n",
    "                                       img_width,\n",
    "                                       3)),\n",
    "        layers.RandomRotation(0.1),\n",
    "        layers.RandomZoom(0.1),\n",
    "        layers.RandomBrightness(0.1),\n",
    "        layers.RandomContrast(0.1)\n",
    "    ]\n",
    ")\n",
    "model = Sequential([\n",
    "    data_augmentation,\n",
    "    layers.Rescaling(1./255),\n",
    "    layers.Conv2D(16, 3, padding='same', activation='relu'),\n",
    "    layers.MaxPooling2D(),\n",
    "    layers.Conv2D(32, 3, padding='same', activation='relu'),\n",
    "    layers.MaxPooling2D(),\n",
    "    layers.Conv2D(64, 3, padding='same', activation='relu'),\n",
    "    layers.MaxPooling2D(),\n",
    "    layers.Dropout(0.4),\n",
    "    layers.Flatten(),\n",
    "    layers.Dense(128, activation='relu'),\n",
    "    layers.Dense(num_classes)\n",
    "])\n",
    "from keras.optimizers import SGD\n",
    "epochs = 10\n",
    "lrate = 0.001\n",
    "decay = lrate/epochs\n",
    "sgd = SGD(lr=lrate, momentum=0.9,  nesterov=False, decay = decay)\n",
    "model.compile(optimizer=sgd,\n",
    "              loss=tf.keras.losses.SparseCategoricalCrossentropy(from_logits=True),\n",
    "              metrics=['accuracy'])\n",
    "history2 = model.fit(\n",
    "    train_ds,\n",
    "    validation_data=val_ds,\n",
    "    epochs=epochs\n",
    ")"
   ],
   "metadata": {
    "collapsed": false
   }
  },
  {
   "cell_type": "code",
   "execution_count": null,
   "outputs": [],
   "source": [
    "num_classes = len(class_names)\n",
    "epochs = 10\n",
    "data_augmentation = keras.Sequential(\n",
    "    [\n",
    "        layers.RandomFlip(\"horizontal\",\n",
    "                          input_shape=(img_height,\n",
    "                                       img_width,\n",
    "                                       3)),\n",
    "        layers.RandomRotation(0.1),\n",
    "        layers.RandomZoom(0.1),\n",
    "        layers.RandomBrightness(0.1),\n",
    "        layers.RandomContrast(0.1)\n",
    "    ]\n",
    ")\n",
    "model = Sequential([\n",
    "    data_augmentation,\n",
    "    layers.Rescaling(1./255),\n",
    "    layers.Conv2D(32, 3, padding='same', activation='relu'),\n",
    "    layers.MaxPooling2D(),\n",
    "    layers.Conv2D(64, 3, padding='same', activation='relu'),\n",
    "    layers.MaxPooling2D(),\n",
    "    layers.Conv2D(128, 3, padding='same', activation='relu'),\n",
    "    layers.MaxPooling2D(),\n",
    "    layers.Dropout(0.4),\n",
    "    layers.Flatten(),\n",
    "    layers.Dense(256, activation='relu'),\n",
    "    layers.Dense(num_classes)\n",
    "])\n",
    "model.compile(optimizer='adam',\n",
    "              loss=tf.keras.losses.SparseCategoricalCrossentropy(from_logits=True),\n",
    "              metrics=['accuracy'])\n",
    "\n",
    "history3 = model.fit( #4\n",
    "    train_ds,\n",
    "    validation_data=val_ds,\n",
    "    epochs=epochs\n",
    ")"
   ],
   "metadata": {
    "collapsed": false
   }
  },
  {
   "cell_type": "code",
   "execution_count": null,
   "outputs": [],
   "source": [
    "acc = history.history['accuracy'] #more dropout\n",
    "val_acc = history.history['val_accuracy']\n",
    "acc2 = history2.history['val_accuracy']\n",
    "acc3 = history3.history['val_accuracy']\n",
    "loss = history.history['loss']\n",
    "val_loss = history.history['val_loss']\n",
    "\n",
    "epochs_range = range(epochs)\n",
    "\n",
    "plt.figure(figsize=(8, 8))\n",
    "plt.subplot(1, 2, 1)\n",
    "#plt.plot(epochs_range, acc, label='Training Accuracy')\n",
    "plt.plot(epochs_range, val_acc, label='Validation Accuracy')\n",
    "plt.plot(epochs_range, acc2, label='2')\n",
    "plt.plot(epochs_range, acc3, label='3')\n",
    "plt.legend(loc='lower right')\n",
    "plt.title('Training and Validation Accuracy')\n",
    "\n",
    "plt.subplot(1, 2, 2)\n",
    "plt.plot(epochs_range, loss, label='Training Loss')\n",
    "plt.plot(epochs_range, val_loss, label='Validation Loss')\n",
    "plt.legend(loc='upper right')\n",
    "plt.title('Training and Validation Loss')\n",
    "plt.show()"
   ],
   "metadata": {
    "collapsed": false
   }
  },
  {
   "cell_type": "code",
   "execution_count": null,
   "outputs": [],
   "source": [
    "def make_model(input_shape, num_classes):\n",
    "    inputs = keras.Input(shape=input_shape)\n",
    "\n",
    "    # Entry block\n",
    "    x = layers.Rescaling(1.0 / 255)(inputs)\n",
    "    x = layers.Conv2D(64, 3, strides=2, padding=\"same\")(x)\n",
    "    x = layers.BatchNormalization()(x)\n",
    "    x = layers.Activation(\"relu\")(x)\n",
    "\n",
    "    previous_block_activation = x  # Set aside residual\n",
    "\n",
    "    for size in [128, 256, 512]:\n",
    "        x = layers.Activation(\"relu\")(x)\n",
    "        x = layers.SeparableConv2D(size, 3, padding=\"same\")(x)\n",
    "        x = layers.BatchNormalization()(x)\n",
    "\n",
    "        x = layers.Activation(\"relu\")(x)\n",
    "        x = layers.SeparableConv2D(size, 3, padding=\"same\")(x)\n",
    "        x = layers.BatchNormalization()(x)\n",
    "\n",
    "        x = layers.MaxPooling2D(3, strides=2, padding=\"same\")(x)\n",
    "\n",
    "        # Project residual\n",
    "        residual = layers.Conv2D(size, 1, strides=2, padding=\"same\")(\n",
    "            previous_block_activation\n",
    "        )\n",
    "        x = layers.add([x, residual])  # Add back residual\n",
    "        previous_block_activation = x  # Set aside next residual\n",
    "\n",
    "    x = layers.SeparableConv2D(1024, 3, padding=\"same\")(x)\n",
    "    x = layers.BatchNormalization()(x)\n",
    "    x = layers.Activation(\"relu\")(x)\n",
    "\n",
    "    x = layers.GlobalAveragePooling2D()(x)\n",
    "    if num_classes == 2:\n",
    "        activation = \"sigmoid\"\n",
    "        units = 1\n",
    "    else:\n",
    "        activation = \"relu\"\n",
    "        units = num_classes\n",
    "\n",
    "    x = layers.Dropout(0.5)(x)\n",
    "    outputs = layers.Dense(units, activation=activation)(x)\n",
    "    return keras.Model(inputs, outputs)\n",
    "\n",
    "\n",
    "model = make_model(input_shape=(224,224) + (3,), num_classes=6)\n",
    "#keras.utils.plot_model(model, show_shapes=True)"
   ],
   "metadata": {
    "collapsed": false
   }
  },
  {
   "cell_type": "code",
   "execution_count": null,
   "outputs": [],
   "source": [
    "epochs = 10\n",
    "\n",
    "callbacks = [\n",
    "    keras.callbacks.ModelCheckpoint(\"save_at_{epoch}.keras\"),\n",
    "]\n",
    "model.compile(\n",
    "    optimizer='adam',\n",
    "    loss=tf.keras.losses.SparseCategoricalCrossentropy(from_logits=True),\n",
    "    metrics=[\"accuracy\"],\n",
    ")\n",
    "history_32=model.fit(\n",
    "    train_ds,\n",
    "    epochs=epochs,\n",
    "    callbacks=callbacks,\n",
    "    validation_data=val_ds,\n",
    ")"
   ],
   "metadata": {
    "collapsed": false
   }
  },
  {
   "cell_type": "code",
   "execution_count": null,
   "outputs": [],
   "source": [
    "\n",
    "acc = history.history['accuracy']  #basic code from tf\n",
    "val_acc = history.history['val_accuracy']\n",
    "\n",
    "loss = history.history['loss']\n",
    "val_loss = history.history['val_loss']\n",
    "\n",
    "epochs_range = range(epochs)\n",
    "\n",
    "plt.figure(figsize=(8, 8))\n",
    "plt.subplot(1, 2, 1)\n",
    "plt.plot(epochs_range, acc, label='Training Accuracy')\n",
    "plt.plot(epochs_range, val_acc, label='Validation Accuracy')\n",
    "plt.legend(loc='lower right')\n",
    "plt.title('Training and Validation Accuracy history2')\n",
    "\n",
    "plt.subplot(1, 2, 2)\n",
    "plt.plot(epochs_range, loss, label='Training Loss')\n",
    "plt.plot(epochs_range, val_loss, label='Validation Loss')\n",
    "plt.legend(loc='upper right')\n",
    "plt.title('Training and Validation Loss')\n",
    "plt.show()"
   ],
   "metadata": {
    "collapsed": false
   }
  },
  {
   "cell_type": "code",
   "execution_count": null,
   "outputs": [],
   "source": [
    "import tensorflow as tf\n",
    "\n",
    "image_dir = '/Users/dilnazimanbaeva/Downloads/capstone/'\n",
    "\n",
    "files = tf.data.Dataset.list_files(image_dir + '*.jpg')\n",
    "\n",
    "def load(filepath):\n",
    "    image = tf.io.read_file(filepath)\n",
    "    image = tf.image.decode_image(image)\n",
    "    return image\n",
    "\n",
    "ds = files.map(load)\n"
   ],
   "metadata": {
    "collapsed": false
   }
  },
  {
   "cell_type": "code",
   "execution_count": null,
   "outputs": [],
   "source": [
    "RESIZE_TO = 224\n",
    "CROP_TO = 224\n",
    "BATCH_SIZE = 32\n",
    "STEPS_PER_EPOCH = 10\n",
    "AUTO = tf.data.AUTOTUNE  # optimise the pipeline performance\n",
    "NUM_CLASSES = 6  # number of classes\n",
    "SCHEDULE_LENGTH = (\n",
    "    100  # we will train on lower resolution images and will still attain good results\n",
    ")\n",
    "SCHEDULE_BOUNDARIES = [\n",
    "    200,\n",
    "    300,\n",
    "    400,\n",
    "]  # more the dataset size the schedule length increase\n"
   ],
   "metadata": {
    "collapsed": false
   }
  },
  {
   "cell_type": "code",
   "execution_count": null,
   "outputs": [],
   "source": [
    "SCHEDULE_LENGTH = SCHEDULE_LENGTH * 512 / BATCH_SIZE\n",
    "\n",
    "\n",
    "@tf.function\n",
    "def preprocess_train(image, label):\n",
    "    image = tf.image.random_flip_left_right(image)\n",
    "    image = tf.image.resize(image, (RESIZE_TO, RESIZE_TO))\n",
    "    image = tf.image.random_crop(image, (CROP_TO, CROP_TO, 3))\n",
    "    image = image / 255.0\n",
    "    return (image, label)\n",
    "\n",
    "\n",
    "@tf.function\n",
    "def preprocess_test(image, label):\n",
    "    image = tf.image.resize(image, (RESIZE_TO, RESIZE_TO))\n",
    "    image = image / 255.0\n",
    "    return (image, label)\n",
    "\n",
    "\n",
    "DATASET_NUM_TRAIN_EXAMPLES = train_ds.cardinality().numpy()\n",
    "\n",
    "repeat_count = int(\n",
    "    SCHEDULE_LENGTH * BATCH_SIZE / DATASET_NUM_TRAIN_EXAMPLES * STEPS_PER_EPOCH\n",
    ")\n",
    "repeat_count += 10 + 1  # To ensure at least there are 50 epochs of training"
   ],
   "metadata": {
    "collapsed": false
   }
  },
  {
   "cell_type": "code",
   "execution_count": null,
   "outputs": [],
   "source": [
    "pipeline_train = (\n",
    "     train_ds.shuffle(100)\n",
    "    .repeat(repeat_count)  # Repeat dataset_size / num_steps\n",
    ")\n",
    "\n",
    "# Validation pipeline\n",
    "pipeline_validation = (\n",
    "    val_ds.map(preprocess_test, num_parallel_calls=AUTO)\n",
    "    .batch(BATCH_SIZE)\n",
    "    .prefetch(AUTO)\n",
    ")"
   ],
   "metadata": {
    "collapsed": false
   }
  },
  {
   "cell_type": "code",
   "execution_count": null,
   "outputs": [],
   "source": [
    "image_batch, label_batch = next(iter(train_ds))\n",
    "\n",
    "plt.figure(figsize=(10, 10))\n",
    "for n in range(25):\n",
    "    ax = plt.subplot(5, 5, n + 1)\n",
    "    plt.imshow((image_batch[n]* 255).astype(np.uint8))\n",
    "    plt.title(label_batch[n].numpy())\n",
    "    plt.axis(\"off\")"
   ],
   "metadata": {
    "collapsed": false
   }
  },
  {
   "cell_type": "code",
   "execution_count": null,
   "outputs": [],
   "source": [
    "import tensorflow_hub as hub"
   ],
   "metadata": {
    "collapsed": false
   }
  },
  {
   "cell_type": "code",
   "execution_count": null,
   "outputs": [],
   "source": [
    "bit_model_url = \"https://tfhub.dev/google/bit/m-r50x1/1\"\n",
    "bit_module = hub.KerasLayer(bit_model_url)"
   ],
   "metadata": {
    "collapsed": false
   }
  },
  {
   "cell_type": "code",
   "execution_count": null,
   "outputs": [],
   "source": [
    "class MyBiTModel(keras.Model):\n",
    "    def __init__(self, num_classes, module, **kwargs):\n",
    "        super().__init__(**kwargs)\n",
    "\n",
    "        self.num_classes = num_classes\n",
    "        self.head = keras.layers.Dense(num_classes, kernel_initializer=\"zeros\")\n",
    "        self.bit_model = module\n",
    "\n",
    "    def call(self, images):\n",
    "        bit_embedding = self.bit_model(images)\n",
    "        return self.head(bit_embedding)\n",
    "\n",
    "\n",
    "model = MyBiTModel(num_classes=NUM_CLASSES, module=bit_module)"
   ],
   "metadata": {
    "collapsed": false
   }
  },
  {
   "cell_type": "code",
   "execution_count": null,
   "outputs": [],
   "source": [
    "learning_rate = 0.003 * BATCH_SIZE / 512\n",
    "\n",
    "# Decay learning rate by a factor of 10 at SCHEDULE_BOUNDARIES.\n",
    "lr_schedule = keras.optimizers.schedules.PiecewiseConstantDecay(\n",
    "    boundaries=SCHEDULE_BOUNDARIES,\n",
    "    values=[\n",
    "        learning_rate,\n",
    "        learning_rate * 0.1,\n",
    "        learning_rate * 0.01,\n",
    "        learning_rate * 0.001,\n",
    "    ],\n",
    ")\n",
    "optimizer = keras.optimizers.legacy.SGD(learning_rate=lr_schedule, momentum=0.9)\n",
    "\n",
    "loss_fn = keras.losses.SparseCategoricalCrossentropy(from_logits=True)"
   ],
   "metadata": {
    "collapsed": false
   }
  },
  {
   "cell_type": "code",
   "execution_count": null,
   "outputs": [],
   "source": [
    "model.compile(optimizer=optimizer, loss=loss_fn, metrics=[\"accuracy\"])"
   ],
   "metadata": {
    "collapsed": false
   }
  },
  {
   "cell_type": "code",
   "execution_count": null,
   "outputs": [],
   "source": [
    "train_callbacks = [\n",
    "    keras.callbacks.EarlyStopping(\n",
    "        monitor=\"val_accuracy\", patience=2, restore_best_weights=True\n",
    "    )\n",
    "]"
   ],
   "metadata": {
    "collapsed": false
   }
  },
  {
   "cell_type": "code",
   "execution_count": null,
   "outputs": [],
   "source": [
    "history = model.fit(\n",
    "    train_ds,\n",
    "    batch_size=BATCH_SIZE,\n",
    "    epochs=int(SCHEDULE_LENGTH / STEPS_PER_EPOCH),\n",
    "    steps_per_epoch=STEPS_PER_EPOCH,\n",
    "    validation_data=val_ds,\n",
    "    callbacks=train_callbacks,\n",
    ")"
   ],
   "metadata": {
    "collapsed": false
   }
  },
  {
   "cell_type": "code",
   "execution_count": null,
   "outputs": [],
   "source": [
    "def plot_hist(hist):\n",
    "    plt.plot(hist.history[\"accuracy\"])\n",
    "    plt.plot(hist.history[\"val_accuracy\"])\n",
    "    plt.plot(hist.history[\"loss\"])\n",
    "    plt.plot(hist.history[\"val_loss\"])\n",
    "    plt.title(\"Training Progress\")\n",
    "    plt.ylabel(\"Accuracy/Loss\")\n",
    "    plt.xlabel(\"Epochs\")\n",
    "    plt.legend([\"train_acc\", \"val_acc\", \"train_loss\", \"val_loss\"], loc=\"upper left\")\n",
    "    plt.show()\n",
    "\n",
    "\n",
    "plot_hist(history)"
   ],
   "metadata": {
    "collapsed": false
   }
  },
  {
   "cell_type": "code",
   "execution_count": null,
   "outputs": [],
   "source": [
    "accuracy = model.evaluate(val_ds)[2] * 100\n",
    "print(\"Accuracy: {:.2f}%\".format(accuracy))"
   ],
   "metadata": {
    "collapsed": false
   }
  },
  {
   "cell_type": "code",
   "execution_count": null,
   "outputs": [],
   "source": [],
   "metadata": {
    "collapsed": false
   }
  },
  {
   "cell_type": "code",
   "execution_count": null,
   "outputs": [],
   "source": [
    "import os\n",
    "import matplotlib.pyplot as plt\n",
    "import cv2\n",
    "from keras.models import Model, Sequential\n",
    "from keras.layers import Input, Convolution2D, ZeroPadding2D,MaxPooling2D, Flatten, Dense, Dropout, Activation\n",
    "from PIL import Image\n",
    "import numpy as np\n",
    "#from keras.preprocessing.image import\n",
    "from keras.utils import load_img, save_img, img_to_array\n",
    "from keras.applications.imagenet_utils import preprocess_input\n",
    "from keras.preprocessing import image\n",
    "import pandas as pd\n",
    "import tensorflow as tf\n",
    "import keras\n",
    "import pickle"
   ],
   "metadata": {
    "collapsed": false
   }
  },
  {
   "cell_type": "code",
   "execution_count": null,
   "outputs": [],
   "source": [
    "base_dir='/Users/dilnazimanbaeva/Downloads/capstone'\n",
    "import os\n",
    "for dirname, _, filenames in os.walk('/Users/dilnazimanbaeva/Downloads'):\n",
    "    for filename in filenames:\n",
    "        os.path.join(dirname, filename)"
   ],
   "metadata": {
    "collapsed": false
   }
  },
  {
   "cell_type": "code",
   "execution_count": null,
   "outputs": [],
   "source": [
    "train_list_mod=class_names"
   ],
   "metadata": {
    "collapsed": false
   }
  },
  {
   "cell_type": "code",
   "execution_count": null,
   "outputs": [],
   "source": [
    "def data_dictionary():\n",
    "    path_train=\"/content/drive/MyDrive/acne2/train/\"\n",
    "    path_test=\"/content/drive/MyDrive/acne2/testing/\"\n",
    "    list_train=train_list_mod#os.listdir(path_train)\n",
    "    train_dictionary={\"image_path\":[],\"target\":[]}\n",
    "    test_dictionary={\"image_path\":[],\"target\":[]}\n",
    "    k=0\n",
    "    for i in list_train:\n",
    "        path_disease_train=path_train+i\n",
    "        path_disease_test=path_test+i\n",
    "        image_list_train=os.listdir(path_disease_train)\n",
    "        image_list_test=os.listdir(path_disease_test)\n",
    "        for j in image_list_train:\n",
    "            img_path_train=path_disease_train+\"/\"+j\n",
    "            train_dictionary[\"image_path\"].append(img_path_train)\n",
    "            train_dictionary['target'].append(k)\n",
    "        for m in image_list_test :\n",
    "            img_path_test=path_disease_test+\"/\"+m\n",
    "            test_dictionary[\"image_path\"].append(img_path_test)\n",
    "            test_dictionary['target'].append(k)\n",
    "        k+=1\n",
    "    test_df=pd.DataFrame(test_dictionary)\n",
    "    train_df=pd.DataFrame(train_dictionary)\n",
    "\n",
    "    return  train_df,test_df"
   ],
   "metadata": {
    "collapsed": false
   }
  },
  {
   "cell_type": "markdown",
   "source": [],
   "metadata": {
    "collapsed": false
   }
  },
  {
   "cell_type": "code",
   "execution_count": null,
   "outputs": [],
   "source": [
    "\n",
    "from tensorflow.python.keras.models import model_from_json\n",
    "from tensorflow.python.keras.models import load_model\n",
    "json_file = open('../model.json', 'r')\n",
    "loaded_model_json = json_file.read()\n",
    "json_file.close()\n",
    "loaded_model = model_from_json(loaded_model_json)\n",
    "loaded_model.load_weights(\"model (2).h5\")"
   ],
   "metadata": {
    "collapsed": false
   }
  },
  {
   "cell_type": "code",
   "execution_count": 34,
   "outputs": [
    {
     "ename": "ValueError",
     "evalue": "in user code:\n\n    File \"/Users/dilnazimanbaeva/DataspellProjects/capstone/venv/lib/python3.9/site-packages/keras/engine/training.py\", line 2169, in predict_function  *\n        return step_function(self, iterator)\n    File \"/Users/dilnazimanbaeva/DataspellProjects/capstone/venv/lib/python3.9/site-packages/keras/engine/training.py\", line 2155, in step_function  **\n        outputs = model.distribute_strategy.run(run_step, args=(data,))\n    File \"/Users/dilnazimanbaeva/DataspellProjects/capstone/venv/lib/python3.9/site-packages/keras/engine/training.py\", line 2143, in run_step  **\n        outputs = model.predict_step(data)\n    File \"/Users/dilnazimanbaeva/DataspellProjects/capstone/venv/lib/python3.9/site-packages/keras/engine/training.py\", line 2111, in predict_step\n        return self(x, training=False)\n    File \"/Users/dilnazimanbaeva/DataspellProjects/capstone/venv/lib/python3.9/site-packages/keras/utils/traceback_utils.py\", line 70, in error_handler\n        raise e.with_traceback(filtered_tb) from None\n    File \"/Users/dilnazimanbaeva/DataspellProjects/capstone/venv/lib/python3.9/site-packages/keras/engine/input_spec.py\", line 298, in assert_input_compatibility\n        raise ValueError(\n\n    ValueError: Input 0 of layer \"sequential_1\" is incompatible with the layer: expected shape=(None, 224, 224, 3), found shape=(32, 224, 3)\n",
     "output_type": "error",
     "traceback": [
      "\u001B[0;31m---------------------------------------------------------------------------\u001B[0m",
      "\u001B[0;31mValueError\u001B[0m                                Traceback (most recent call last)",
      "Cell \u001B[0;32mIn[34], line 6\u001B[0m\n\u001B[1;32m      2\u001B[0m test\u001B[38;5;241m=\u001B[39mcv2\u001B[38;5;241m.\u001B[39mimread(\u001B[38;5;124m'\u001B[39m\u001B[38;5;124m/Users/dilnazimanbaeva/DataspellProjects/capstone/extracted/photo1682589067_chin.jpg\u001B[39m\u001B[38;5;124m'\u001B[39m)\n\u001B[1;32m      3\u001B[0m test\u001B[38;5;241m=\u001B[39mcv2\u001B[38;5;241m.\u001B[39mresize(test,(\u001B[38;5;241m224\u001B[39m,\u001B[38;5;241m224\u001B[39m),\u001B[38;5;241m3\u001B[39m)\n\u001B[0;32m----> 6\u001B[0m \u001B[43mmodel\u001B[49m\u001B[38;5;241;43m.\u001B[39;49m\u001B[43mpredict\u001B[49m\u001B[43m(\u001B[49m\u001B[43mtest\u001B[49m\u001B[43m)\u001B[49m\n",
      "File \u001B[0;32m~/DataspellProjects/capstone/venv/lib/python3.9/site-packages/keras/utils/traceback_utils.py:70\u001B[0m, in \u001B[0;36mfilter_traceback.<locals>.error_handler\u001B[0;34m(*args, **kwargs)\u001B[0m\n\u001B[1;32m     67\u001B[0m     filtered_tb \u001B[38;5;241m=\u001B[39m _process_traceback_frames(e\u001B[38;5;241m.\u001B[39m__traceback__)\n\u001B[1;32m     68\u001B[0m     \u001B[38;5;66;03m# To get the full stack trace, call:\u001B[39;00m\n\u001B[1;32m     69\u001B[0m     \u001B[38;5;66;03m# `tf.debugging.disable_traceback_filtering()`\u001B[39;00m\n\u001B[0;32m---> 70\u001B[0m     \u001B[38;5;28;01mraise\u001B[39;00m e\u001B[38;5;241m.\u001B[39mwith_traceback(filtered_tb) \u001B[38;5;28;01mfrom\u001B[39;00m \u001B[38;5;28;01mNone\u001B[39;00m\n\u001B[1;32m     71\u001B[0m \u001B[38;5;28;01mfinally\u001B[39;00m:\n\u001B[1;32m     72\u001B[0m     \u001B[38;5;28;01mdel\u001B[39;00m filtered_tb\n",
      "File \u001B[0;32m/var/folders/__/bfls2r094fq9h8bdsvsz0rlr0000gn/T/__autograph_generated_fileoyx87joz.py:15\u001B[0m, in \u001B[0;36mouter_factory.<locals>.inner_factory.<locals>.tf__predict_function\u001B[0;34m(iterator)\u001B[0m\n\u001B[1;32m     13\u001B[0m \u001B[38;5;28;01mtry\u001B[39;00m:\n\u001B[1;32m     14\u001B[0m     do_return \u001B[38;5;241m=\u001B[39m \u001B[38;5;28;01mTrue\u001B[39;00m\n\u001B[0;32m---> 15\u001B[0m     retval_ \u001B[38;5;241m=\u001B[39m ag__\u001B[38;5;241m.\u001B[39mconverted_call(ag__\u001B[38;5;241m.\u001B[39mld(step_function), (ag__\u001B[38;5;241m.\u001B[39mld(\u001B[38;5;28mself\u001B[39m), ag__\u001B[38;5;241m.\u001B[39mld(iterator)), \u001B[38;5;28;01mNone\u001B[39;00m, fscope)\n\u001B[1;32m     16\u001B[0m \u001B[38;5;28;01mexcept\u001B[39;00m:\n\u001B[1;32m     17\u001B[0m     do_return \u001B[38;5;241m=\u001B[39m \u001B[38;5;28;01mFalse\u001B[39;00m\n",
      "\u001B[0;31mValueError\u001B[0m: in user code:\n\n    File \"/Users/dilnazimanbaeva/DataspellProjects/capstone/venv/lib/python3.9/site-packages/keras/engine/training.py\", line 2169, in predict_function  *\n        return step_function(self, iterator)\n    File \"/Users/dilnazimanbaeva/DataspellProjects/capstone/venv/lib/python3.9/site-packages/keras/engine/training.py\", line 2155, in step_function  **\n        outputs = model.distribute_strategy.run(run_step, args=(data,))\n    File \"/Users/dilnazimanbaeva/DataspellProjects/capstone/venv/lib/python3.9/site-packages/keras/engine/training.py\", line 2143, in run_step  **\n        outputs = model.predict_step(data)\n    File \"/Users/dilnazimanbaeva/DataspellProjects/capstone/venv/lib/python3.9/site-packages/keras/engine/training.py\", line 2111, in predict_step\n        return self(x, training=False)\n    File \"/Users/dilnazimanbaeva/DataspellProjects/capstone/venv/lib/python3.9/site-packages/keras/utils/traceback_utils.py\", line 70, in error_handler\n        raise e.with_traceback(filtered_tb) from None\n    File \"/Users/dilnazimanbaeva/DataspellProjects/capstone/venv/lib/python3.9/site-packages/keras/engine/input_spec.py\", line 298, in assert_input_compatibility\n        raise ValueError(\n\n    ValueError: Input 0 of layer \"sequential_1\" is incompatible with the layer: expected shape=(None, 224, 224, 3), found shape=(32, 224, 3)\n"
     ]
    }
   ],
   "source": [
    "import cv2\n",
    "test=cv2.imread('/Users/dilnazimanbaeva/DataspellProjects/capstone/extracted/photo1682589067_chin.jpg')\n",
    "test=cv2.resize(test,(224,224),3)\n",
    "\n",
    "\n",
    "model.predict(test)"
   ],
   "metadata": {
    "collapsed": false,
    "ExecuteTime": {
     "end_time": "2023-05-21T11:52:12.262572Z",
     "start_time": "2023-05-21T11:52:12.206460Z"
    }
   }
  },
  {
   "cell_type": "code",
   "execution_count": 56,
   "outputs": [],
   "source": [
    "y_pred2=model.predict(val_ds.take(2))\n",
    "y_pred2__cl=y_pred2.argmax(axis=1)[0]\n",
    "print(y_pred2__cl)"
   ],
   "metadata": {
    "collapsed": false
   }
  },
  {
   "cell_type": "code",
   "execution_count": 53,
   "outputs": [],
   "source": [
    "plt.figure(figsize=(10, 10))\n",
    "for images, _ in val_ds.take(1):\n",
    "    for i in range(9):\n",
    "        augmented_images = data_augmentation(images)\n",
    "        ax = plt.subplot(3, 3, i + 1)\n",
    "        plt.imshow(augmented_images[0].numpy().astype(\"uint8\"))\n",
    "        plt.axis(\"off\")"
   ],
   "metadata": {
    "collapsed": false
   }
  },
  {
   "cell_type": "code",
   "execution_count": 79,
   "outputs": [
    {
     "name": "stdout",
     "output_type": "stream",
     "text": [
      "1/1 [==============================] - 1s 560ms/step\n",
      "[3]\n",
      "[[2.1347077 3.9516485 3.7709062 5.9239917]]\n"
     ]
    }
   ],
   "source": [
    "import cv2\n",
    "img_rgb=cv2.imread('/Users/dilnazahmetzan/Downloads/acn.jpg')\n",
    "img_rgb = cv2.resize(img_rgb,(224,224),3)  # resize\n",
    "img_rgb = np.array(img_rgb).astype(np.float32)/255.0  # scaling\n",
    "img_rgb = np.expand_dims(img_rgb, axis=0)  # expand dimension\n",
    "y_pred = new_model.predict(img_rgb) # prediction\n",
    "y_pred_class = y_pred.argmax(axis=1)\n",
    "print(y_pred_class)\n",
    "print(y_pred)"
   ],
   "metadata": {
    "collapsed": false,
    "ExecuteTime": {
     "end_time": "2023-05-23T13:03:01.047264Z",
     "start_time": "2023-05-23T13:03:00.207689Z"
    }
   }
  },
  {
   "cell_type": "code",
   "execution_count": 80,
   "outputs": [
    {
     "name": "stdout",
     "output_type": "stream",
     "text": [
      "1/1 [==============================] - 0s 151ms/step\n",
      "[3]\n",
      "[[2.11193   3.961391  3.7858098 5.9590917]]\n"
     ]
    }
   ],
   "source": [
    "import cv2\n",
    "img_rgb=cv2.imread('/Users/dilnazahmetzan/Downloads/blk.jpg')\n",
    "img_rgb = cv2.resize(img_rgb,(224,224),3)  # resize\n",
    "img_rgb = np.array(img_rgb).astype(np.float32)/255.0  # scaling\n",
    "img_rgb = np.expand_dims(img_rgb, axis=0)  # expand dimension\n",
    "y_pred = new_model.predict(img_rgb) # prediction\n",
    "y_pred_class = y_pred.argmax(axis=1)\n",
    "print(y_pred_class)\n",
    "print(y_pred)"
   ],
   "metadata": {
    "collapsed": false,
    "ExecuteTime": {
     "end_time": "2023-05-23T13:03:04.424454Z",
     "start_time": "2023-05-23T13:03:04.109616Z"
    }
   }
  },
  {
   "cell_type": "code",
   "execution_count": 81,
   "outputs": [
    {
     "name": "stdout",
     "output_type": "stream",
     "text": [
      "1/1 [==============================] - 0s 85ms/step\n",
      "[3]\n",
      "[[2.11094   3.9356441 3.7739816 5.9771204]]\n"
     ]
    }
   ],
   "source": [
    "import cv2\n",
    "img_rgb=cv2.imread('/Users/dilnazahmetzan/Downloads/wrn.jpeg')\n",
    "img_rgb = cv2.resize(img_rgb,(224,224),3)  # resize\n",
    "img_rgb = np.array(img_rgb).astype(np.float32)/255.0  # scaling\n",
    "img_rgb = np.expand_dims(img_rgb, axis=0)  # expand dimension\n",
    "y_pred = new_model.predict(img_rgb) # prediction\n",
    "y_pred_class = y_pred.argmax(axis=1)\n",
    "print(y_pred_class)\n",
    "print(y_pred)"
   ],
   "metadata": {
    "collapsed": false,
    "ExecuteTime": {
     "end_time": "2023-05-23T13:03:08.529983Z",
     "start_time": "2023-05-23T13:03:08.255438Z"
    }
   }
  },
  {
   "cell_type": "code",
   "execution_count": 78,
   "outputs": [
    {
     "name": "stdout",
     "output_type": "stream",
     "text": [
      "Model: \"sequential_1\"\n",
      "_________________________________________________________________\n",
      " Layer (type)                Output Shape              Param #   \n",
      "=================================================================\n",
      " sequential (Sequential)     (None, 224, 224, 3)       0         \n",
      "                                                                 \n",
      " rescaling_1 (Rescaling)     (None, 224, 224, 3)       0         \n",
      "                                                                 \n",
      " conv2d (Conv2D)             (None, 224, 224, 16)      448       \n",
      "                                                                 \n",
      " max_pooling2d (MaxPooling2D  (None, 112, 112, 16)     0         \n",
      " )                                                               \n",
      "                                                                 \n",
      " conv2d_1 (Conv2D)           (None, 112, 112, 32)      4640      \n",
      "                                                                 \n",
      " max_pooling2d_1 (MaxPooling  (None, 56, 56, 32)       0         \n",
      " 2D)                                                             \n",
      "                                                                 \n",
      " conv2d_2 (Conv2D)           (None, 56, 56, 64)        18496     \n",
      "                                                                 \n",
      " max_pooling2d_2 (MaxPooling  (None, 28, 28, 64)       0         \n",
      " 2D)                                                             \n",
      "                                                                 \n",
      " dropout (Dropout)           (None, 28, 28, 64)        0         \n",
      "                                                                 \n",
      " flatten (Flatten)           (None, 50176)             0         \n",
      "                                                                 \n",
      " dense (Dense)               (None, 128)               6422656   \n",
      "                                                                 \n",
      " dense_1 (Dense)             (None, 4)                 516       \n",
      "                                                                 \n",
      "=================================================================\n",
      "Total params: 6,446,756\n",
      "Trainable params: 6,446,756\n",
      "Non-trainable params: 0\n",
      "_________________________________________________________________\n"
     ]
    }
   ],
   "source": [
    "new_model = tf.keras.models.load_model('model.0.73.h5')\n",
    "new_model.summary()"
   ],
   "metadata": {
    "collapsed": false,
    "ExecuteTime": {
     "end_time": "2023-05-23T13:02:30.448968Z",
     "start_time": "2023-05-23T13:02:27.181518Z"
    }
   }
  },
  {
   "cell_type": "code",
   "execution_count": 83,
   "outputs": [],
   "source": [
    "new_model.save('new_model.h5')"
   ],
   "metadata": {
    "collapsed": false,
    "ExecuteTime": {
     "end_time": "2023-05-23T14:10:37.569779Z",
     "start_time": "2023-05-23T14:10:35.352270Z"
    }
   }
  },
  {
   "cell_type": "code",
   "execution_count": 84,
   "outputs": [],
   "source": [
    "!tensorflowjs_converter \\\n",
    "    --input_format=keras \\\n",
    "    new_model.h5 \\\n",
    "    my"
   ],
   "metadata": {
    "collapsed": false,
    "ExecuteTime": {
     "end_time": "2023-05-23T14:11:07.890234Z",
     "start_time": "2023-05-23T14:10:48.444062Z"
    }
   }
  },
  {
   "cell_type": "code",
   "execution_count": 1,
   "outputs": [
    {
     "name": "stderr",
     "output_type": "stream",
     "text": [
      "2023-05-27 19:46:09.184679: I tensorflow/core/platform/cpu_feature_guard.cc:182] This TensorFlow binary is optimized to use available CPU instructions in performance-critical operations.\n",
      "To enable the following instructions: AVX2 FMA, in other operations, rebuild TensorFlow with the appropriate compiler flags.\n"
     ]
    },
    {
     "ename": "ValueError",
     "evalue": "Unknown layer: Rescaling. Please ensure this object is passed to the `custom_objects` argument. See https://www.tensorflow.org/guide/keras/save_and_serialize#registering_the_custom_object for details.",
     "output_type": "error",
     "traceback": [
      "\u001B[0;31m---------------------------------------------------------------------------\u001B[0m",
      "\u001B[0;31mValueError\u001B[0m                                Traceback (most recent call last)",
      "Cell \u001B[0;32mIn[1], line 3\u001B[0m\n\u001B[1;32m      1\u001B[0m \u001B[38;5;28;01mfrom\u001B[39;00m \u001B[38;5;21;01mtensorflow\u001B[39;00m\u001B[38;5;21;01m.\u001B[39;00m\u001B[38;5;21;01mpython\u001B[39;00m\u001B[38;5;21;01m.\u001B[39;00m\u001B[38;5;21;01mkeras\u001B[39;00m\u001B[38;5;21;01m.\u001B[39;00m\u001B[38;5;21;01mmodels\u001B[39;00m \u001B[38;5;28;01mimport\u001B[39;00m model_from_json\n\u001B[1;32m      2\u001B[0m \u001B[38;5;28;01mfrom\u001B[39;00m \u001B[38;5;21;01mtensorflow\u001B[39;00m\u001B[38;5;21;01m.\u001B[39;00m\u001B[38;5;21;01mpython\u001B[39;00m\u001B[38;5;21;01m.\u001B[39;00m\u001B[38;5;21;01mkeras\u001B[39;00m\u001B[38;5;21;01m.\u001B[39;00m\u001B[38;5;21;01mmodels\u001B[39;00m \u001B[38;5;28;01mimport\u001B[39;00m load_model\n\u001B[0;32m----> 3\u001B[0m model \u001B[38;5;241m=\u001B[39m \u001B[43mload_model\u001B[49m\u001B[43m(\u001B[49m\u001B[38;5;124;43m'\u001B[39;49m\u001B[38;5;124;43m/Users/dilnazahmetzan/Downloads/skin-assistant/model/mode.0.80.h5\u001B[39;49m\u001B[38;5;124;43m'\u001B[39;49m\u001B[43m)\u001B[49m\n",
      "File \u001B[0;32m~/anaconda3/envs/capstone/lib/python3.10/site-packages/tensorflow/python/keras/saving/save.py:200\u001B[0m, in \u001B[0;36mload_model\u001B[0;34m(filepath, custom_objects, compile, options)\u001B[0m\n\u001B[1;32m    197\u001B[0m \u001B[38;5;28;01mwith\u001B[39;00m load_context\u001B[38;5;241m.\u001B[39mload_context(options):\n\u001B[1;32m    198\u001B[0m   \u001B[38;5;28;01mif\u001B[39;00m (h5py \u001B[38;5;129;01mis\u001B[39;00m \u001B[38;5;129;01mnot\u001B[39;00m \u001B[38;5;28;01mNone\u001B[39;00m \u001B[38;5;129;01mand\u001B[39;00m\n\u001B[1;32m    199\u001B[0m       (\u001B[38;5;28misinstance\u001B[39m(filepath, h5py\u001B[38;5;241m.\u001B[39mFile) \u001B[38;5;129;01mor\u001B[39;00m h5py\u001B[38;5;241m.\u001B[39mis_hdf5(filepath))):\n\u001B[0;32m--> 200\u001B[0m     \u001B[38;5;28;01mreturn\u001B[39;00m \u001B[43mhdf5_format\u001B[49m\u001B[38;5;241;43m.\u001B[39;49m\u001B[43mload_model_from_hdf5\u001B[49m\u001B[43m(\u001B[49m\u001B[43mfilepath\u001B[49m\u001B[43m,\u001B[49m\u001B[43m \u001B[49m\u001B[43mcustom_objects\u001B[49m\u001B[43m,\u001B[49m\n\u001B[1;32m    201\u001B[0m \u001B[43m                                            \u001B[49m\u001B[38;5;28;43mcompile\u001B[39;49m\u001B[43m)\u001B[49m\n\u001B[1;32m    203\u001B[0m   filepath \u001B[38;5;241m=\u001B[39m path_to_string(filepath)\n\u001B[1;32m    204\u001B[0m   \u001B[38;5;28;01mif\u001B[39;00m \u001B[38;5;28misinstance\u001B[39m(filepath, \u001B[38;5;28mstr\u001B[39m):\n",
      "File \u001B[0;32m~/anaconda3/envs/capstone/lib/python3.10/site-packages/tensorflow/python/keras/saving/hdf5_format.py:180\u001B[0m, in \u001B[0;36mload_model_from_hdf5\u001B[0;34m(filepath, custom_objects, compile)\u001B[0m\n\u001B[1;32m    178\u001B[0m   model_config \u001B[38;5;241m=\u001B[39m model_config\u001B[38;5;241m.\u001B[39mdecode(\u001B[38;5;124m'\u001B[39m\u001B[38;5;124mutf-8\u001B[39m\u001B[38;5;124m'\u001B[39m)\n\u001B[1;32m    179\u001B[0m model_config \u001B[38;5;241m=\u001B[39m json_utils\u001B[38;5;241m.\u001B[39mdecode(model_config)\n\u001B[0;32m--> 180\u001B[0m model \u001B[38;5;241m=\u001B[39m \u001B[43mmodel_config_lib\u001B[49m\u001B[38;5;241;43m.\u001B[39;49m\u001B[43mmodel_from_config\u001B[49m\u001B[43m(\u001B[49m\u001B[43mmodel_config\u001B[49m\u001B[43m,\u001B[49m\n\u001B[1;32m    181\u001B[0m \u001B[43m                                           \u001B[49m\u001B[43mcustom_objects\u001B[49m\u001B[38;5;241;43m=\u001B[39;49m\u001B[43mcustom_objects\u001B[49m\u001B[43m)\u001B[49m\n\u001B[1;32m    183\u001B[0m \u001B[38;5;66;03m# set weights\u001B[39;00m\n\u001B[1;32m    184\u001B[0m load_weights_from_hdf5_group(f[\u001B[38;5;124m'\u001B[39m\u001B[38;5;124mmodel_weights\u001B[39m\u001B[38;5;124m'\u001B[39m], model\u001B[38;5;241m.\u001B[39mlayers)\n",
      "File \u001B[0;32m~/anaconda3/envs/capstone/lib/python3.10/site-packages/tensorflow/python/keras/saving/model_config.py:52\u001B[0m, in \u001B[0;36mmodel_from_config\u001B[0;34m(config, custom_objects)\u001B[0m\n\u001B[1;32m     48\u001B[0m   \u001B[38;5;28;01mraise\u001B[39;00m \u001B[38;5;167;01mTypeError\u001B[39;00m(\u001B[38;5;124m'\u001B[39m\u001B[38;5;124m`model_from_config` expects a dictionary, not a list. \u001B[39m\u001B[38;5;124m'\u001B[39m\n\u001B[1;32m     49\u001B[0m                   \u001B[38;5;124m'\u001B[39m\u001B[38;5;124mMaybe you meant to use \u001B[39m\u001B[38;5;124m'\u001B[39m\n\u001B[1;32m     50\u001B[0m                   \u001B[38;5;124m'\u001B[39m\u001B[38;5;124m`Sequential.from_config(config)`?\u001B[39m\u001B[38;5;124m'\u001B[39m)\n\u001B[1;32m     51\u001B[0m \u001B[38;5;28;01mfrom\u001B[39;00m \u001B[38;5;21;01mtensorflow\u001B[39;00m\u001B[38;5;21;01m.\u001B[39;00m\u001B[38;5;21;01mpython\u001B[39;00m\u001B[38;5;21;01m.\u001B[39;00m\u001B[38;5;21;01mkeras\u001B[39;00m\u001B[38;5;21;01m.\u001B[39;00m\u001B[38;5;21;01mlayers\u001B[39;00m \u001B[38;5;28;01mimport\u001B[39;00m deserialize  \u001B[38;5;66;03m# pylint: disable=g-import-not-at-top\u001B[39;00m\n\u001B[0;32m---> 52\u001B[0m \u001B[38;5;28;01mreturn\u001B[39;00m \u001B[43mdeserialize\u001B[49m\u001B[43m(\u001B[49m\u001B[43mconfig\u001B[49m\u001B[43m,\u001B[49m\u001B[43m \u001B[49m\u001B[43mcustom_objects\u001B[49m\u001B[38;5;241;43m=\u001B[39;49m\u001B[43mcustom_objects\u001B[49m\u001B[43m)\u001B[49m\n",
      "File \u001B[0;32m~/anaconda3/envs/capstone/lib/python3.10/site-packages/tensorflow/python/keras/layers/serialization.py:118\u001B[0m, in \u001B[0;36mdeserialize\u001B[0;34m(config, custom_objects)\u001B[0m\n\u001B[1;32m    107\u001B[0m \u001B[38;5;250m\u001B[39m\u001B[38;5;124;03m\"\"\"Instantiates a layer from a config dictionary.\u001B[39;00m\n\u001B[1;32m    108\u001B[0m \n\u001B[1;32m    109\u001B[0m \u001B[38;5;124;03mArgs:\u001B[39;00m\n\u001B[0;32m   (...)\u001B[0m\n\u001B[1;32m    115\u001B[0m \u001B[38;5;124;03m    Layer instance (may be Model, Sequential, Network, Layer...)\u001B[39;00m\n\u001B[1;32m    116\u001B[0m \u001B[38;5;124;03m\"\"\"\u001B[39;00m\n\u001B[1;32m    117\u001B[0m populate_deserializable_objects()\n\u001B[0;32m--> 118\u001B[0m \u001B[38;5;28;01mreturn\u001B[39;00m \u001B[43mgeneric_utils\u001B[49m\u001B[38;5;241;43m.\u001B[39;49m\u001B[43mdeserialize_keras_object\u001B[49m\u001B[43m(\u001B[49m\n\u001B[1;32m    119\u001B[0m \u001B[43m    \u001B[49m\u001B[43mconfig\u001B[49m\u001B[43m,\u001B[49m\n\u001B[1;32m    120\u001B[0m \u001B[43m    \u001B[49m\u001B[43mmodule_objects\u001B[49m\u001B[38;5;241;43m=\u001B[39;49m\u001B[43mLOCAL\u001B[49m\u001B[38;5;241;43m.\u001B[39;49m\u001B[43mALL_OBJECTS\u001B[49m\u001B[43m,\u001B[49m\n\u001B[1;32m    121\u001B[0m \u001B[43m    \u001B[49m\u001B[43mcustom_objects\u001B[49m\u001B[38;5;241;43m=\u001B[39;49m\u001B[43mcustom_objects\u001B[49m\u001B[43m,\u001B[49m\n\u001B[1;32m    122\u001B[0m \u001B[43m    \u001B[49m\u001B[43mprintable_module_name\u001B[49m\u001B[38;5;241;43m=\u001B[39;49m\u001B[38;5;124;43m'\u001B[39;49m\u001B[38;5;124;43mlayer\u001B[39;49m\u001B[38;5;124;43m'\u001B[39;49m\u001B[43m)\u001B[49m\n",
      "File \u001B[0;32m~/anaconda3/envs/capstone/lib/python3.10/site-packages/tensorflow/python/keras/utils/generic_utils.py:674\u001B[0m, in \u001B[0;36mdeserialize_keras_object\u001B[0;34m(identifier, module_objects, custom_objects, printable_module_name)\u001B[0m\n\u001B[1;32m    671\u001B[0m custom_objects \u001B[38;5;241m=\u001B[39m custom_objects \u001B[38;5;129;01mor\u001B[39;00m {}\n\u001B[1;32m    673\u001B[0m \u001B[38;5;28;01mif\u001B[39;00m \u001B[38;5;124m'\u001B[39m\u001B[38;5;124mcustom_objects\u001B[39m\u001B[38;5;124m'\u001B[39m \u001B[38;5;129;01min\u001B[39;00m arg_spec\u001B[38;5;241m.\u001B[39margs:\n\u001B[0;32m--> 674\u001B[0m   deserialized_obj \u001B[38;5;241m=\u001B[39m \u001B[38;5;28;43mcls\u001B[39;49m\u001B[38;5;241;43m.\u001B[39;49m\u001B[43mfrom_config\u001B[49m\u001B[43m(\u001B[49m\n\u001B[1;32m    675\u001B[0m \u001B[43m      \u001B[49m\u001B[43mcls_config\u001B[49m\u001B[43m,\u001B[49m\n\u001B[1;32m    676\u001B[0m \u001B[43m      \u001B[49m\u001B[43mcustom_objects\u001B[49m\u001B[38;5;241;43m=\u001B[39;49m\u001B[38;5;28;43mdict\u001B[39;49m\u001B[43m(\u001B[49m\n\u001B[1;32m    677\u001B[0m \u001B[43m          \u001B[49m\u001B[38;5;28;43mlist\u001B[39;49m\u001B[43m(\u001B[49m\u001B[43m_GLOBAL_CUSTOM_OBJECTS\u001B[49m\u001B[38;5;241;43m.\u001B[39;49m\u001B[43mitems\u001B[49m\u001B[43m(\u001B[49m\u001B[43m)\u001B[49m\u001B[43m)\u001B[49m\u001B[43m \u001B[49m\u001B[38;5;241;43m+\u001B[39;49m\n\u001B[1;32m    678\u001B[0m \u001B[43m          \u001B[49m\u001B[38;5;28;43mlist\u001B[39;49m\u001B[43m(\u001B[49m\u001B[43mcustom_objects\u001B[49m\u001B[38;5;241;43m.\u001B[39;49m\u001B[43mitems\u001B[49m\u001B[43m(\u001B[49m\u001B[43m)\u001B[49m\u001B[43m)\u001B[49m\u001B[43m)\u001B[49m\u001B[43m)\u001B[49m\n\u001B[1;32m    679\u001B[0m \u001B[38;5;28;01melse\u001B[39;00m:\n\u001B[1;32m    680\u001B[0m   \u001B[38;5;28;01mwith\u001B[39;00m CustomObjectScope(custom_objects):\n",
      "File \u001B[0;32m~/anaconda3/envs/capstone/lib/python3.10/site-packages/tensorflow/python/keras/engine/sequential.py:496\u001B[0m, in \u001B[0;36mSequential.from_config\u001B[0;34m(cls, config, custom_objects)\u001B[0m\n\u001B[1;32m    494\u001B[0m model \u001B[38;5;241m=\u001B[39m \u001B[38;5;28mcls\u001B[39m(name\u001B[38;5;241m=\u001B[39mname)\n\u001B[1;32m    495\u001B[0m \u001B[38;5;28;01mfor\u001B[39;00m layer_config \u001B[38;5;129;01min\u001B[39;00m layer_configs:\n\u001B[0;32m--> 496\u001B[0m   layer \u001B[38;5;241m=\u001B[39m \u001B[43mlayer_module\u001B[49m\u001B[38;5;241;43m.\u001B[39;49m\u001B[43mdeserialize\u001B[49m\u001B[43m(\u001B[49m\u001B[43mlayer_config\u001B[49m\u001B[43m,\u001B[49m\n\u001B[1;32m    497\u001B[0m \u001B[43m                                   \u001B[49m\u001B[43mcustom_objects\u001B[49m\u001B[38;5;241;43m=\u001B[39;49m\u001B[43mcustom_objects\u001B[49m\u001B[43m)\u001B[49m\n\u001B[1;32m    498\u001B[0m   model\u001B[38;5;241m.\u001B[39madd(layer)\n\u001B[1;32m    499\u001B[0m \u001B[38;5;28;01mif\u001B[39;00m (\u001B[38;5;129;01mnot\u001B[39;00m model\u001B[38;5;241m.\u001B[39minputs \u001B[38;5;129;01mand\u001B[39;00m build_input_shape \u001B[38;5;129;01mand\u001B[39;00m\n\u001B[1;32m    500\u001B[0m     \u001B[38;5;28misinstance\u001B[39m(build_input_shape, (\u001B[38;5;28mtuple\u001B[39m, \u001B[38;5;28mlist\u001B[39m))):\n",
      "File \u001B[0;32m~/anaconda3/envs/capstone/lib/python3.10/site-packages/tensorflow/python/keras/layers/serialization.py:118\u001B[0m, in \u001B[0;36mdeserialize\u001B[0;34m(config, custom_objects)\u001B[0m\n\u001B[1;32m    107\u001B[0m \u001B[38;5;250m\u001B[39m\u001B[38;5;124;03m\"\"\"Instantiates a layer from a config dictionary.\u001B[39;00m\n\u001B[1;32m    108\u001B[0m \n\u001B[1;32m    109\u001B[0m \u001B[38;5;124;03mArgs:\u001B[39;00m\n\u001B[0;32m   (...)\u001B[0m\n\u001B[1;32m    115\u001B[0m \u001B[38;5;124;03m    Layer instance (may be Model, Sequential, Network, Layer...)\u001B[39;00m\n\u001B[1;32m    116\u001B[0m \u001B[38;5;124;03m\"\"\"\u001B[39;00m\n\u001B[1;32m    117\u001B[0m populate_deserializable_objects()\n\u001B[0;32m--> 118\u001B[0m \u001B[38;5;28;01mreturn\u001B[39;00m \u001B[43mgeneric_utils\u001B[49m\u001B[38;5;241;43m.\u001B[39;49m\u001B[43mdeserialize_keras_object\u001B[49m\u001B[43m(\u001B[49m\n\u001B[1;32m    119\u001B[0m \u001B[43m    \u001B[49m\u001B[43mconfig\u001B[49m\u001B[43m,\u001B[49m\n\u001B[1;32m    120\u001B[0m \u001B[43m    \u001B[49m\u001B[43mmodule_objects\u001B[49m\u001B[38;5;241;43m=\u001B[39;49m\u001B[43mLOCAL\u001B[49m\u001B[38;5;241;43m.\u001B[39;49m\u001B[43mALL_OBJECTS\u001B[49m\u001B[43m,\u001B[49m\n\u001B[1;32m    121\u001B[0m \u001B[43m    \u001B[49m\u001B[43mcustom_objects\u001B[49m\u001B[38;5;241;43m=\u001B[39;49m\u001B[43mcustom_objects\u001B[49m\u001B[43m,\u001B[49m\n\u001B[1;32m    122\u001B[0m \u001B[43m    \u001B[49m\u001B[43mprintable_module_name\u001B[49m\u001B[38;5;241;43m=\u001B[39;49m\u001B[38;5;124;43m'\u001B[39;49m\u001B[38;5;124;43mlayer\u001B[39;49m\u001B[38;5;124;43m'\u001B[39;49m\u001B[43m)\u001B[49m\n",
      "File \u001B[0;32m~/anaconda3/envs/capstone/lib/python3.10/site-packages/tensorflow/python/keras/utils/generic_utils.py:659\u001B[0m, in \u001B[0;36mdeserialize_keras_object\u001B[0;34m(identifier, module_objects, custom_objects, printable_module_name)\u001B[0m\n\u001B[1;32m    656\u001B[0m \u001B[38;5;28;01mif\u001B[39;00m \u001B[38;5;28misinstance\u001B[39m(identifier, \u001B[38;5;28mdict\u001B[39m):\n\u001B[1;32m    657\u001B[0m   \u001B[38;5;66;03m# In this case we are dealing with a Keras config dictionary.\u001B[39;00m\n\u001B[1;32m    658\u001B[0m   config \u001B[38;5;241m=\u001B[39m identifier\n\u001B[0;32m--> 659\u001B[0m   (\u001B[38;5;28mcls\u001B[39m, cls_config) \u001B[38;5;241m=\u001B[39m \u001B[43mclass_and_config_for_serialized_keras_object\u001B[49m\u001B[43m(\u001B[49m\n\u001B[1;32m    660\u001B[0m \u001B[43m      \u001B[49m\u001B[43mconfig\u001B[49m\u001B[43m,\u001B[49m\u001B[43m \u001B[49m\u001B[43mmodule_objects\u001B[49m\u001B[43m,\u001B[49m\u001B[43m \u001B[49m\u001B[43mcustom_objects\u001B[49m\u001B[43m,\u001B[49m\u001B[43m \u001B[49m\u001B[43mprintable_module_name\u001B[49m\u001B[43m)\u001B[49m\n\u001B[1;32m    662\u001B[0m   \u001B[38;5;66;03m# If this object has already been loaded (i.e. it's shared between multiple\u001B[39;00m\n\u001B[1;32m    663\u001B[0m   \u001B[38;5;66;03m# objects), return the already-loaded object.\u001B[39;00m\n\u001B[1;32m    664\u001B[0m   shared_object_id \u001B[38;5;241m=\u001B[39m config\u001B[38;5;241m.\u001B[39mget(SHARED_OBJECT_KEY)\n",
      "File \u001B[0;32m~/anaconda3/envs/capstone/lib/python3.10/site-packages/tensorflow/python/keras/utils/generic_utils.py:556\u001B[0m, in \u001B[0;36mclass_and_config_for_serialized_keras_object\u001B[0;34m(config, module_objects, custom_objects, printable_module_name)\u001B[0m\n\u001B[1;32m    554\u001B[0m \u001B[38;5;28mcls\u001B[39m \u001B[38;5;241m=\u001B[39m get_registered_object(class_name, custom_objects, module_objects)\n\u001B[1;32m    555\u001B[0m \u001B[38;5;28;01mif\u001B[39;00m \u001B[38;5;28mcls\u001B[39m \u001B[38;5;129;01mis\u001B[39;00m \u001B[38;5;28;01mNone\u001B[39;00m:\n\u001B[0;32m--> 556\u001B[0m   \u001B[38;5;28;01mraise\u001B[39;00m \u001B[38;5;167;01mValueError\u001B[39;00m(\n\u001B[1;32m    557\u001B[0m       \u001B[38;5;124m'\u001B[39m\u001B[38;5;124mUnknown \u001B[39m\u001B[38;5;132;01m{}\u001B[39;00m\u001B[38;5;124m: \u001B[39m\u001B[38;5;132;01m{}\u001B[39;00m\u001B[38;5;124m. Please ensure this object is \u001B[39m\u001B[38;5;124m'\u001B[39m\n\u001B[1;32m    558\u001B[0m       \u001B[38;5;124m'\u001B[39m\u001B[38;5;124mpassed to the `custom_objects` argument. See \u001B[39m\u001B[38;5;124m'\u001B[39m\n\u001B[1;32m    559\u001B[0m       \u001B[38;5;124m'\u001B[39m\u001B[38;5;124mhttps://www.tensorflow.org/guide/keras/save_and_serialize\u001B[39m\u001B[38;5;124m'\u001B[39m\n\u001B[1;32m    560\u001B[0m       \u001B[38;5;124m'\u001B[39m\u001B[38;5;124m#registering_the_custom_object for details.\u001B[39m\u001B[38;5;124m'\u001B[39m\n\u001B[1;32m    561\u001B[0m       \u001B[38;5;241m.\u001B[39mformat(printable_module_name, class_name))\n\u001B[1;32m    563\u001B[0m cls_config \u001B[38;5;241m=\u001B[39m config[\u001B[38;5;124m'\u001B[39m\u001B[38;5;124mconfig\u001B[39m\u001B[38;5;124m'\u001B[39m]\n\u001B[1;32m    564\u001B[0m \u001B[38;5;66;03m# Check if `cls_config` is a list. If it is a list, return the class and the\u001B[39;00m\n\u001B[1;32m    565\u001B[0m \u001B[38;5;66;03m# associated class configs for recursively deserialization. This case will\u001B[39;00m\n\u001B[1;32m    566\u001B[0m \u001B[38;5;66;03m# happen on the old version of sequential model (e.g. `keras_version` ==\u001B[39;00m\n\u001B[1;32m    567\u001B[0m \u001B[38;5;66;03m# \"2.0.6\"), which is serialized in a different structure, for example\u001B[39;00m\n\u001B[1;32m    568\u001B[0m \u001B[38;5;66;03m# \"{'class_name': 'Sequential',\u001B[39;00m\n\u001B[1;32m    569\u001B[0m \u001B[38;5;66;03m#   'config': [{'class_name': 'Embedding', 'config': ...}, {}, ...]}\".\u001B[39;00m\n",
      "\u001B[0;31mValueError\u001B[0m: Unknown layer: Rescaling. Please ensure this object is passed to the `custom_objects` argument. See https://www.tensorflow.org/guide/keras/save_and_serialize#registering_the_custom_object for details."
     ]
    }
   ],
   "source": [
    "from tensorflow.python.keras.models import model_from_json\n",
    "from tensorflow.python.keras.models import load_model\n",
    "model = load_model('/Users/dilnazahmetzan/Downloads/skin-assistant/model/mode.0.80.h5')"
   ],
   "metadata": {
    "collapsed": false,
    "ExecuteTime": {
     "end_time": "2023-05-27T13:46:28.021161Z",
     "start_time": "2023-05-27T13:45:58.814226Z"
    }
   }
  }
 ],
 "metadata": {
  "kernelspec": {
   "display_name": "Python 3",
   "language": "python",
   "name": "python3"
  },
  "language_info": {
   "codemirror_mode": {
    "name": "ipython",
    "version": 2
   },
   "file_extension": ".py",
   "mimetype": "text/x-python",
   "name": "python",
   "nbconvert_exporter": "python",
   "pygments_lexer": "ipython2",
   "version": "2.7.6"
  }
 },
 "nbformat": 4,
 "nbformat_minor": 0
}
