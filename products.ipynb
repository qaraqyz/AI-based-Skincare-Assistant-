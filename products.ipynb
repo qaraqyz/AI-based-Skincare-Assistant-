{
 "cells": [
  {
   "cell_type": "code",
   "execution_count": 6,
   "metadata": {
    "collapsed": true,
    "ExecuteTime": {
     "end_time": "2023-05-30T18:02:33.106710Z",
     "start_time": "2023-05-30T18:02:33.036154Z"
    }
   },
   "outputs": [
    {
     "name": "stdout",
     "output_type": "stream",
     "text": [
      "Recommended Skincare Routine:\n",
      "1. Moisturizer:\n",
      "- KIEHL'S SINCE 1851 - Ultra Facial Cream\n",
      "\n",
      "2. Cleanser:\n",
      "- PHILOSOPHY - Purity Made Simple Cleanser\n",
      "\n",
      "3. Treatment:\n",
      "- DRUNK ELEPHANT - NightBright™ Duo\n",
      "\n",
      "4. Face Mask:\n",
      "- SEPHORA COLLECTION - Face Mask Magic\n",
      "\n",
      "5. Eye Cream:\n",
      "- KIEHL'S SINCE 1851 - Creamy Eye Treatment with Avocado\n",
      "\n",
      "6. SPF:\n",
      "- NEOGEN DERMALOGY - Day-Light Protection Sun Screen SPF 50 PA+++\n"
     ]
    }
   ],
   "source": [
    "import csv\n",
    "\n",
    "def read_csv(filename):\n",
    "    data = []\n",
    "    with open(filename, 'r') as file:\n",
    "        csv_reader = csv.reader(file)\n",
    "        next(csv_reader)  # Skip header row\n",
    "        for row in csv_reader:\n",
    "            data.append(row)\n",
    "    return data\n",
    "\n",
    "def recommend_skincare(products, category, price_max, price_min, skin_type, rank):\n",
    "    recommendations = []\n",
    "    for product in products:\n",
    "        label, brand, name, price, product_rank, ingredients, combination, dry, normal, oily, sensitive = product\n",
    "\n",
    "        # Filter based on category, price range, skin type, and rank\n",
    "        if label.lower() == category.lower() and \\\n",
    "                price_min <= float(price) <= price_max and \\\n",
    "                (skin_type == 'combination' or combination == '1') and \\\n",
    "                (skin_type == 'dry' or dry == '1') and \\\n",
    "                (skin_type == 'normal' or normal == '1') and \\\n",
    "                (skin_type == 'oily' or oily == '1') and \\\n",
    "                (skin_type == 'sensitive' or sensitive == '1') and \\\n",
    "                float(product_rank) >= rank:\n",
    "            recommendations.append((brand, name))\n",
    "\n",
    "    return recommendations\n",
    "\n",
    "# Read CSV file\n",
    "filename = 'skincare/cosmetics.csv'\n",
    "data = read_csv(filename)\n",
    "\n",
    "# User preferences\n",
    "price_max =30\n",
    "price_min = 0\n",
    "skin_type = 'combination'\n",
    "rank = 4.0\n",
    "\n",
    "# Recommend skincare routine\n",
    "moisturizer = recommend_skincare(data, 'Moisturizer', price_max, price_min, skin_type, rank)\n",
    "cleanser = recommend_skincare(data, 'Cleanser', price_max, price_min, skin_type, rank)\n",
    "treatment = recommend_skincare(data, 'Treatment', price_max, price_min, skin_type, rank)\n",
    "face_mask = recommend_skincare(data, 'Face Mask', price_max, price_min, skin_type, rank)\n",
    "eye_cream = recommend_skincare(data, 'Eye cream', price_max, price_min, skin_type, rank)\n",
    "spf = recommend_skincare(data, 'Sun protect', price_max, price_min, skin_type, rank)\n",
    "\n",
    "\n",
    "# Print recommendations\n",
    "if moisturizer and cleanser and treatment and face_mask and eye_cream and spf :\n",
    "    print(\"Recommended Skincare Routine:\")\n",
    "    print(\"1. Moisturizer:\")\n",
    "    print(f\"- {moisturizer[0][0]} - {moisturizer[0][1]}\")\n",
    "    print(\"\\n2. Cleanser:\")\n",
    "    print(f\"- {cleanser[0][0]} - {cleanser[0][1]}\")\n",
    "    print(\"\\n3. Treatment:\")\n",
    "    print(f\"- {treatment[0][0]} - {treatment[0][1]}\")\n",
    "    print(\"\\n4. Face Mask:\")\n",
    "    print(f\"- {face_mask[0][0]} - {face_mask[0][1]}\")\n",
    "    print(\"\\n5. Eye Cream:\")\n",
    "    print(f\"- {eye_cream[0][0]} - {eye_cream[0][1]}\")\n",
    "    print(\"\\n6. SPF:\")\n",
    "    print(f\"- {spf[0][0]} - {spf[0][1]}\")\n",
    "else:\n",
    "    print(\"No matching products found for the given preferences.\")\n"
   ]
  },
  {
   "cell_type": "code",
   "execution_count": null,
   "outputs": [],
   "source": [],
   "metadata": {
    "collapsed": false
   }
  }
 ],
 "metadata": {
  "kernelspec": {
   "display_name": "Python 3",
   "language": "python",
   "name": "python3"
  },
  "language_info": {
   "codemirror_mode": {
    "name": "ipython",
    "version": 2
   },
   "file_extension": ".py",
   "mimetype": "text/x-python",
   "name": "python",
   "nbconvert_exporter": "python",
   "pygments_lexer": "ipython2",
   "version": "2.7.6"
  }
 },
 "nbformat": 4,
 "nbformat_minor": 0
}
