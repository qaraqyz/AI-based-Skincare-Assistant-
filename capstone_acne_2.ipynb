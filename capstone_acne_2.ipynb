{
 "nbformat": 4,
 "nbformat_minor": 0,
 "metadata": {
  "colab": {
   "provenance": [],
   "gpuType": "T4"
  },
  "kernelspec": {
   "name": "python3",
   "language": "python",
   "display_name": "Python 3 (ipykernel)"
  },
  "language_info": {
   "name": "python"
  },
  "accelerator": "GPU",
  "gpuClass": "standard"
 },
 "cells": [
  {
   "cell_type": "code",
   "source": [],
   "metadata": {
    "colab": {
     "base_uri": "https://localhost:8080/"
    },
    "id": "-bPPAwv3s1R5",
    "outputId": "87ed2d87-909a-464d-8733-497d48224c95"
   },
   "execution_count": null,
   "outputs": [
    {
     "output_type": "stream",
     "name": "stdout",
     "text": [
      "Drive already mounted at /content/drive; to attempt to forcibly remount, call drive.mount(\"/content/drive\", force_remount=True).\n"
     ]
    }
   ]
  },
  {
   "cell_type": "code",
   "execution_count": 1,
   "metadata": {
    "id": "8Rt6JzL0r0O2",
    "ExecuteTime": {
     "end_time": "2023-05-24T19:41:59.700904Z",
     "start_time": "2023-05-24T19:41:40.333840Z"
    }
   },
   "outputs": [
    {
     "name": "stderr",
     "output_type": "stream",
     "text": [
      "2023-05-25 01:41:50.910006: I tensorflow/core/platform/cpu_feature_guard.cc:182] This TensorFlow binary is optimized to use available CPU instructions in performance-critical operations.\n",
      "To enable the following instructions: AVX2 FMA, in other operations, rebuild TensorFlow with the appropriate compiler flags.\n"
     ]
    }
   ],
   "source": [
    "import os\n",
    "import matplotlib.pyplot as plt\n",
    "import cv2\n",
    "from keras.models import Model, Sequential\n",
    "from keras.layers import Input, Convolution2D, ZeroPadding2D,MaxPooling2D, Flatten, Dense, Dropout, Activation\n",
    "from PIL import Image\n",
    "import numpy as np\n",
    "#from keras.preprocessing.image import \n",
    "from keras.utils import load_img, save_img, img_to_array\n",
    "from keras.applications.imagenet_utils import preprocess_input\n",
    "from keras.preprocessing import image\n",
    "import pandas as pd\n",
    "import tensorflow as tf\n",
    "import keras\n",
    "import pickle\n"
   ]
  },
  {
   "cell_type": "code",
   "source": [
    "base_dir='/Users/dilnazahmetzan/Downloads/capstone2'\n",
    "import os\n",
    "for dirname, _, filenames in os.walk('/Users/dilnazahmetzan/Downloads/capstone2'):\n",
    "    for filename in filenames:\n",
    "        os.path.join(dirname, filename)"
   ],
   "metadata": {
    "id": "duLrysM7soB1",
    "ExecuteTime": {
     "end_time": "2023-05-24T19:41:59.739298Z",
     "start_time": "2023-05-24T19:41:59.706006Z"
    }
   },
   "execution_count": 2,
   "outputs": []
  },
  {
   "cell_type": "code",
   "source": [
    "train_list_mod=['acne','wrinkles','carcinoma','blackhead','norm']"
   ],
   "metadata": {
    "id": "CNiti-mNsnUi",
    "ExecuteTime": {
     "end_time": "2023-05-24T19:41:59.741007Z",
     "start_time": "2023-05-24T19:41:59.731199Z"
    }
   },
   "execution_count": 3,
   "outputs": []
  },
  {
   "cell_type": "code",
   "source": [
    "def data_dictionary():\n",
    "    path_train=\"/Users/dilnazahmetzan/Downloads/capstone2/train/\"\n",
    "    path_test=\"/Users/dilnazahmetzan/Downloads/capstone2/test/\"\n",
    "    list_train=train_list_mod#os.listdir(path_train)\n",
    "    train_dictionary={\"image_path\":[],\"target\":[]}\n",
    "    test_dictionary={\"image_path\":[],\"target\":[]}\n",
    "    k=0\n",
    "    for i in list_train:\n",
    "        path_disease_train=path_train+i\n",
    "        path_disease_test=path_test+i\n",
    "        image_list_train=os.listdir(path_disease_train)\n",
    "        image_list_test=os.listdir(path_disease_test)\n",
    "        for j in image_list_train:\n",
    "            img_path_train=path_disease_train+\"/\"+j\n",
    "            train_dictionary[\"image_path\"].append(img_path_train)\n",
    "            train_dictionary['target'].append(k) \n",
    "        for m in image_list_test :\n",
    "            img_path_test=path_disease_test+\"/\"+m\n",
    "            test_dictionary[\"image_path\"].append(img_path_test)\n",
    "            test_dictionary['target'].append(k)\n",
    "        k+=1 \n",
    "    test_df=pd.DataFrame(test_dictionary)\n",
    "    train_df=pd.DataFrame(train_dictionary)\n",
    "        \n",
    "    return  train_df,test_df"
   ],
   "metadata": {
    "id": "9WEwBRT5tIux",
    "ExecuteTime": {
     "end_time": "2023-05-24T19:41:59.763001Z",
     "start_time": "2023-05-24T19:41:59.748846Z"
    }
   },
   "execution_count": 4,
   "outputs": []
  },
  {
   "cell_type": "code",
   "source": [
    "def load_data(input_size=(100,100)):\n",
    "    images=[]\n",
    "    images2=[]\n",
    "    train_df,test_df=data_dictionary()\n",
    "    pixels=[]\n",
    "    k = 0 \n",
    "    t = 0\n",
    "    for i in train_df['image_path']:\n",
    "        img=cv2.imread(i)\n",
    "        if img is None:\n",
    "           print('Wrong path:',i )\n",
    "        else:\n",
    "           img = cv2.resize(img, input_size)\n",
    "           pixels.append(img)\n",
    "        #img=cv2.resize(img,input_size)\n",
    "        images.append(img)\n",
    "        k=k+1\n",
    "        print(k)\n",
    "    y_train=np.asarray(train_df['target'])\n",
    "    x_train=np.asarray(images)\n",
    "    for i in test_df['image_path']:\n",
    "        img=cv2.imread(i)\n",
    "        if img is None:\n",
    "           print('Wrong path:',i )\n",
    "        else:\n",
    "           img = cv2.resize(img, input_size)\n",
    "           pixels.append(img)\n",
    "        #img=cv2.resize(img,input_size)\n",
    "        images2.append(img)\n",
    "        t=t+1\n",
    "        print(t)\n",
    "    y_test=np.asarray(test_df['target'])\n",
    "    x_test=np.asarray(images2)\n",
    "    return x_train,x_test,y_train,y_test"
   ],
   "metadata": {
    "id": "jBx4hSg0tPqk",
    "ExecuteTime": {
     "end_time": "2023-05-24T19:41:59.801678Z",
     "start_time": "2023-05-24T19:41:59.765480Z"
    }
   },
   "execution_count": 5,
   "outputs": []
  },
  {
   "cell_type": "code",
   "source": [
    "x_train,x_test,y_train,y_test=load_data(input_size=(224,224))"
   ],
   "metadata": {
    "colab": {
     "base_uri": "https://localhost:8080/"
    },
    "id": "ApQS2u0jtRsQ",
    "outputId": "e70b2288-a9d1-4784-c761-11a5ae135628",
    "ExecuteTime": {
     "end_time": "2023-05-24T19:42:07.371703Z",
     "start_time": "2023-05-24T19:41:59.777798Z"
    }
   },
   "execution_count": 6,
   "outputs": [
    {
     "name": "stdout",
     "output_type": "stream",
     "text": [
      "1\n",
      "2\n",
      "3\n",
      "4\n",
      "5\n",
      "6\n",
      "7\n",
      "8\n",
      "9\n",
      "10\n",
      "11\n",
      "12\n",
      "13\n",
      "14\n",
      "15\n",
      "16\n",
      "17\n",
      "18\n",
      "19\n",
      "20\n",
      "21\n",
      "22\n",
      "23\n",
      "24\n",
      "25\n",
      "26\n",
      "27\n",
      "28\n",
      "29\n",
      "30\n",
      "31\n",
      "32\n",
      "33\n",
      "34\n",
      "35\n",
      "36\n",
      "37\n",
      "38\n",
      "39\n",
      "40\n",
      "41\n",
      "42\n",
      "43\n",
      "44\n",
      "45\n",
      "46\n",
      "47\n",
      "48\n",
      "49\n",
      "50\n",
      "51\n",
      "52\n",
      "53\n",
      "54\n",
      "55\n",
      "56\n",
      "57\n",
      "58\n",
      "59\n",
      "60\n",
      "61\n",
      "62\n",
      "63\n",
      "64\n",
      "65\n",
      "66\n",
      "67\n",
      "68\n",
      "69\n",
      "70\n",
      "71\n",
      "72\n",
      "73\n",
      "74\n",
      "75\n",
      "76\n",
      "77\n",
      "78\n",
      "79\n",
      "80\n",
      "81\n",
      "82\n",
      "83\n",
      "84\n",
      "85\n",
      "86\n",
      "87\n",
      "88\n",
      "89\n",
      "90\n",
      "91\n",
      "92\n",
      "93\n",
      "94\n",
      "95\n",
      "96\n",
      "97\n",
      "98\n",
      "99\n",
      "100\n",
      "101\n",
      "102\n",
      "103\n",
      "104\n",
      "105\n",
      "106\n",
      "107\n",
      "108\n",
      "109\n",
      "110\n",
      "111\n",
      "112\n",
      "113\n",
      "114\n",
      "115\n",
      "116\n",
      "117\n",
      "118\n",
      "119\n",
      "120\n",
      "121\n",
      "122\n",
      "123\n",
      "124\n",
      "125\n",
      "126\n",
      "127\n",
      "128\n",
      "129\n",
      "130\n",
      "131\n",
      "132\n",
      "133\n",
      "134\n",
      "135\n",
      "136\n",
      "137\n",
      "138\n",
      "139\n",
      "140\n",
      "141\n",
      "142\n",
      "143\n",
      "144\n",
      "145\n",
      "146\n",
      "147\n",
      "148\n",
      "149\n",
      "150\n",
      "151\n",
      "152\n",
      "153\n",
      "154\n",
      "155\n",
      "156\n",
      "157\n",
      "158\n",
      "159\n",
      "160\n",
      "161\n",
      "162\n",
      "163\n",
      "164\n",
      "165\n",
      "166\n",
      "167\n",
      "168\n",
      "169\n",
      "170\n",
      "171\n",
      "172\n",
      "173\n",
      "174\n",
      "175\n",
      "176\n",
      "177\n",
      "178\n",
      "179\n",
      "180\n",
      "181\n",
      "182\n",
      "183\n",
      "184\n",
      "185\n",
      "186\n",
      "187\n",
      "188\n",
      "189\n",
      "190\n",
      "191\n",
      "192\n",
      "193\n",
      "194\n",
      "195\n",
      "196\n",
      "197\n",
      "198\n",
      "199\n",
      "200\n",
      "201\n",
      "202\n",
      "203\n",
      "204\n",
      "205\n",
      "206\n",
      "207\n",
      "208\n",
      "209\n",
      "210\n",
      "211\n",
      "212\n",
      "213\n",
      "214\n",
      "215\n",
      "216\n",
      "217\n",
      "218\n",
      "219\n",
      "220\n",
      "221\n",
      "222\n",
      "223\n",
      "224\n",
      "225\n",
      "226\n",
      "227\n",
      "228\n",
      "229\n",
      "230\n",
      "231\n",
      "232\n",
      "233\n",
      "234\n",
      "235\n",
      "236\n",
      "237\n",
      "238\n",
      "239\n",
      "240\n",
      "241\n",
      "242\n",
      "243\n",
      "244\n",
      "245\n",
      "246\n",
      "247\n",
      "248\n",
      "249\n",
      "250\n",
      "251\n",
      "252\n",
      "253\n",
      "254\n",
      "255\n",
      "256\n",
      "257\n",
      "258\n",
      "259\n",
      "260\n",
      "261\n",
      "262\n",
      "263\n",
      "264\n",
      "265\n",
      "266\n",
      "267\n",
      "268\n",
      "269\n",
      "270\n",
      "271\n",
      "272\n",
      "273\n",
      "274\n",
      "275\n",
      "276\n",
      "277\n",
      "278\n",
      "279\n",
      "280\n",
      "281\n",
      "282\n",
      "283\n",
      "284\n",
      "285\n",
      "286\n",
      "287\n",
      "288\n",
      "289\n",
      "290\n",
      "291\n",
      "292\n",
      "293\n",
      "294\n",
      "295\n",
      "296\n",
      "297\n",
      "298\n",
      "299\n",
      "300\n",
      "301\n",
      "302\n",
      "303\n",
      "304\n",
      "305\n",
      "306\n",
      "307\n",
      "308\n",
      "309\n",
      "310\n",
      "311\n",
      "312\n",
      "313\n",
      "314\n",
      "315\n",
      "316\n",
      "317\n",
      "318\n",
      "319\n",
      "320\n",
      "321\n",
      "322\n",
      "323\n",
      "324\n",
      "325\n",
      "326\n",
      "327\n",
      "328\n",
      "329\n",
      "330\n",
      "331\n",
      "332\n",
      "333\n",
      "334\n",
      "335\n",
      "336\n",
      "337\n",
      "338\n",
      "339\n",
      "340\n",
      "341\n",
      "342\n",
      "343\n",
      "344\n",
      "345\n",
      "346\n",
      "347\n",
      "348\n",
      "349\n",
      "350\n",
      "351\n",
      "352\n",
      "353\n",
      "354\n",
      "355\n",
      "356\n",
      "357\n",
      "358\n",
      "359\n",
      "360\n",
      "361\n",
      "362\n",
      "363\n",
      "364\n",
      "365\n",
      "366\n",
      "367\n",
      "368\n",
      "369\n",
      "370\n",
      "371\n",
      "372\n",
      "373\n",
      "374\n",
      "375\n",
      "376\n",
      "377\n",
      "378\n",
      "379\n",
      "380\n",
      "381\n",
      "382\n",
      "383\n",
      "384\n",
      "385\n",
      "386\n",
      "387\n",
      "388\n",
      "389\n",
      "390\n",
      "391\n",
      "392\n",
      "393\n",
      "394\n",
      "395\n",
      "396\n",
      "397\n",
      "398\n",
      "399\n",
      "400\n",
      "401\n",
      "402\n",
      "403\n",
      "404\n",
      "405\n",
      "406\n",
      "407\n",
      "408\n",
      "409\n",
      "410\n",
      "411\n",
      "412\n",
      "413\n",
      "414\n",
      "415\n",
      "416\n",
      "417\n",
      "418\n",
      "419\n",
      "420\n",
      "421\n",
      "422\n",
      "423\n",
      "424\n",
      "425\n",
      "426\n",
      "427\n",
      "428\n",
      "429\n",
      "430\n",
      "431\n",
      "432\n",
      "433\n",
      "434\n",
      "435\n",
      "436\n",
      "437\n",
      "438\n",
      "439\n",
      "440\n",
      "441\n",
      "442\n",
      "443\n",
      "444\n",
      "445\n",
      "446\n",
      "447\n",
      "448\n",
      "449\n",
      "450\n",
      "451\n",
      "452\n",
      "453\n",
      "454\n",
      "455\n",
      "456\n",
      "457\n",
      "458\n",
      "459\n",
      "460\n",
      "461\n",
      "462\n",
      "463\n",
      "464\n",
      "465\n",
      "466\n",
      "467\n",
      "468\n",
      "469\n",
      "470\n",
      "471\n",
      "472\n",
      "473\n",
      "474\n",
      "475\n",
      "476\n",
      "477\n",
      "478\n",
      "479\n",
      "480\n",
      "481\n",
      "482\n",
      "483\n",
      "484\n",
      "485\n",
      "486\n",
      "487\n",
      "488\n",
      "489\n",
      "490\n",
      "491\n",
      "492\n",
      "493\n",
      "494\n",
      "495\n",
      "496\n",
      "497\n",
      "498\n",
      "499\n",
      "500\n",
      "501\n",
      "502\n",
      "503\n",
      "504\n",
      "505\n",
      "506\n",
      "507\n",
      "508\n",
      "509\n",
      "510\n",
      "511\n",
      "512\n",
      "513\n",
      "514\n",
      "515\n",
      "516\n",
      "517\n",
      "518\n",
      "519\n",
      "520\n",
      "521\n",
      "522\n",
      "523\n",
      "524\n",
      "525\n",
      "526\n",
      "527\n",
      "528\n",
      "529\n",
      "530\n",
      "531\n",
      "532\n",
      "533\n",
      "534\n",
      "535\n",
      "536\n",
      "537\n",
      "538\n",
      "539\n",
      "540\n",
      "541\n",
      "542\n",
      "543\n",
      "544\n",
      "545\n",
      "546\n",
      "547\n",
      "548\n",
      "549\n",
      "550\n",
      "551\n",
      "552\n",
      "553\n",
      "554\n",
      "555\n",
      "556\n",
      "557\n",
      "558\n",
      "559\n",
      "560\n",
      "561\n",
      "562\n",
      "563\n",
      "564\n",
      "565\n",
      "566\n",
      "567\n",
      "568\n",
      "569\n",
      "570\n",
      "571\n",
      "572\n",
      "573\n",
      "574\n",
      "575\n",
      "576\n",
      "577\n",
      "578\n",
      "579\n",
      "580\n",
      "581\n",
      "582\n",
      "583\n",
      "584\n",
      "585\n",
      "586\n",
      "587\n",
      "588\n",
      "589\n",
      "590\n",
      "591\n",
      "592\n",
      "593\n",
      "594\n",
      "595\n",
      "596\n",
      "597\n",
      "598\n",
      "599\n",
      "600\n",
      "601\n",
      "602\n",
      "603\n",
      "604\n",
      "605\n",
      "606\n",
      "607\n",
      "608\n",
      "609\n",
      "610\n",
      "611\n",
      "612\n",
      "613\n",
      "614\n",
      "615\n",
      "616\n",
      "617\n",
      "618\n",
      "619\n",
      "620\n",
      "621\n",
      "622\n",
      "623\n",
      "624\n",
      "625\n",
      "626\n",
      "627\n",
      "628\n",
      "629\n",
      "630\n",
      "631\n",
      "632\n",
      "633\n",
      "634\n",
      "635\n",
      "636\n",
      "637\n",
      "638\n",
      "639\n",
      "640\n",
      "641\n",
      "642\n",
      "643\n",
      "644\n",
      "645\n",
      "646\n",
      "647\n",
      "648\n",
      "649\n",
      "650\n",
      "651\n",
      "652\n",
      "653\n",
      "654\n",
      "655\n",
      "656\n",
      "657\n",
      "658\n",
      "659\n",
      "660\n",
      "661\n",
      "662\n",
      "663\n",
      "664\n",
      "665\n",
      "666\n",
      "667\n",
      "668\n",
      "669\n",
      "670\n",
      "1\n",
      "2\n",
      "3\n",
      "4\n",
      "5\n",
      "6\n",
      "7\n",
      "8\n",
      "9\n",
      "10\n",
      "11\n",
      "12\n",
      "13\n",
      "14\n",
      "15\n",
      "16\n",
      "17\n",
      "18\n",
      "19\n",
      "20\n",
      "21\n",
      "22\n",
      "23\n",
      "24\n",
      "25\n",
      "26\n",
      "27\n",
      "28\n",
      "29\n",
      "30\n",
      "31\n",
      "32\n",
      "33\n",
      "34\n",
      "35\n",
      "36\n",
      "37\n",
      "38\n",
      "39\n",
      "40\n",
      "41\n",
      "42\n",
      "43\n",
      "44\n",
      "45\n",
      "46\n",
      "47\n",
      "48\n",
      "49\n",
      "50\n",
      "51\n",
      "52\n",
      "53\n",
      "54\n",
      "55\n",
      "56\n",
      "57\n",
      "58\n",
      "59\n",
      "60\n",
      "61\n",
      "62\n",
      "63\n",
      "64\n",
      "65\n",
      "66\n",
      "67\n",
      "68\n",
      "69\n",
      "70\n",
      "71\n",
      "72\n",
      "73\n",
      "74\n",
      "75\n",
      "76\n",
      "77\n",
      "78\n",
      "79\n",
      "80\n",
      "81\n",
      "82\n",
      "83\n",
      "84\n",
      "85\n",
      "86\n",
      "87\n",
      "88\n",
      "89\n",
      "90\n",
      "91\n",
      "92\n",
      "93\n",
      "94\n",
      "95\n",
      "96\n",
      "97\n",
      "98\n",
      "99\n",
      "100\n",
      "101\n",
      "102\n",
      "103\n",
      "104\n",
      "105\n",
      "106\n",
      "107\n",
      "108\n",
      "109\n",
      "110\n",
      "111\n",
      "112\n",
      "113\n",
      "114\n",
      "115\n",
      "116\n",
      "117\n",
      "118\n",
      "119\n",
      "120\n",
      "121\n",
      "122\n",
      "123\n",
      "124\n",
      "125\n",
      "126\n",
      "127\n",
      "128\n",
      "129\n",
      "130\n",
      "131\n",
      "132\n",
      "133\n",
      "134\n",
      "135\n",
      "136\n",
      "137\n",
      "138\n",
      "139\n",
      "140\n",
      "141\n",
      "142\n",
      "143\n",
      "144\n",
      "145\n",
      "146\n",
      "147\n",
      "148\n",
      "149\n",
      "150\n",
      "151\n",
      "152\n",
      "153\n",
      "154\n",
      "155\n",
      "156\n",
      "157\n",
      "158\n",
      "159\n",
      "160\n",
      "161\n",
      "162\n",
      "163\n",
      "164\n",
      "165\n",
      "166\n",
      "167\n",
      "168\n"
     ]
    }
   ]
  },
  {
   "cell_type": "code",
   "source": [
    "from keras.applications import  VGG19\n",
    "from keras.models import Model\n",
    "from keras.applications.vgg19 import preprocess_input"
   ],
   "metadata": {
    "id": "0b9API2NtTQ0",
    "ExecuteTime": {
     "end_time": "2023-05-24T19:42:07.382729Z",
     "start_time": "2023-05-24T19:42:07.370193Z"
    }
   },
   "execution_count": 7,
   "outputs": []
  },
  {
   "cell_type": "code",
   "source": [
    "vgg16 = VGG19(include_top=False,weights='imagenet')"
   ],
   "metadata": {
    "id": "69rQTHoztU4s",
    "ExecuteTime": {
     "end_time": "2023-05-24T19:42:08.267878Z",
     "start_time": "2023-05-24T19:42:07.381068Z"
    }
   },
   "execution_count": 8,
   "outputs": []
  },
  {
   "cell_type": "code",
   "source": [
    "import joblib"
   ],
   "metadata": {
    "id": "98HUsQ7qtXwV",
    "ExecuteTime": {
     "end_time": "2023-05-24T19:42:08.543474Z",
     "start_time": "2023-05-24T19:42:08.268714Z"
    }
   },
   "execution_count": 9,
   "outputs": []
  },
  {
   "cell_type": "code",
   "source": [
    "filename=\"vgg16.sav\"\n",
    "joblib.dump(vgg16,open(filename,'wb'))"
   ],
   "metadata": {
    "id": "69WNa62dtZGm",
    "ExecuteTime": {
     "end_time": "2023-05-24T19:42:09.395567Z",
     "start_time": "2023-05-24T19:42:08.553085Z"
    }
   },
   "execution_count": 10,
   "outputs": []
  },
  {
   "cell_type": "code",
   "source": [
    "vgg19=joblib.load(\"vgg16.sav\")"
   ],
   "metadata": {
    "id": "w8lIpR9qtcOZ",
    "ExecuteTime": {
     "end_time": "2023-05-24T19:42:12.605679Z",
     "start_time": "2023-05-24T19:42:09.386752Z"
    }
   },
   "execution_count": 11,
   "outputs": []
  },
  {
   "cell_type": "code",
   "source": [
    "train_img=preprocess_input(x_train)\n",
    "test_img=preprocess_input(x_test)"
   ],
   "metadata": {
    "id": "5t8fZ1AZteJ_",
    "ExecuteTime": {
     "end_time": "2023-05-24T19:42:13.455967Z",
     "start_time": "2023-05-24T19:42:12.606993Z"
    }
   },
   "execution_count": 12,
   "outputs": []
  },
  {
   "cell_type": "code",
   "source": [
    "features_train=vgg16.predict(train_img)"
   ],
   "metadata": {
    "id": "RiwLoWwWtgEa",
    "colab": {
     "base_uri": "https://localhost:8080/"
    },
    "outputId": "24d66f45-2418-4c07-eaaa-da91f8d7dc8b",
    "ExecuteTime": {
     "end_time": "2023-05-24T19:47:10.404567Z",
     "start_time": "2023-05-24T19:42:13.457174Z"
    }
   },
   "execution_count": 13,
   "outputs": [
    {
     "name": "stdout",
     "output_type": "stream",
     "text": [
      "21/21 [==============================] - 295s 14s/step\n"
     ]
    }
   ]
  },
  {
   "cell_type": "code",
   "source": [
    "features_test=vgg16.predict(test_img)"
   ],
   "metadata": {
    "id": "UmTeB-E0thnN",
    "colab": {
     "base_uri": "https://localhost:8080/"
    },
    "outputId": "73a426e0-0b5f-429c-8726-b51df706d277",
    "ExecuteTime": {
     "end_time": "2023-05-24T19:48:20.145127Z",
     "start_time": "2023-05-24T19:47:10.424808Z"
    }
   },
   "execution_count": 14,
   "outputs": [
    {
     "name": "stdout",
     "output_type": "stream",
     "text": [
      "6/6 [==============================] - 69s 11s/step\n"
     ]
    }
   ]
  },
  {
   "cell_type": "code",
   "source": [
    "features_train.shape"
   ],
   "metadata": {
    "id": "Jcla5XemtjRM",
    "colab": {
     "base_uri": "https://localhost:8080/"
    },
    "outputId": "c09734a7-d960-4e4f-af43-94ffbd1576ec",
    "ExecuteTime": {
     "end_time": "2023-05-24T19:50:03.717991Z",
     "start_time": "2023-05-24T19:50:03.670025Z"
    }
   },
   "execution_count": 20,
   "outputs": [
    {
     "data": {
      "text/plain": "(670, 7, 7, 512)"
     },
     "execution_count": 20,
     "metadata": {},
     "output_type": "execute_result"
    }
   ]
  },
  {
   "cell_type": "code",
   "source": [
    "shape = x_train.shape\n",
    "print(shape)"
   ],
   "metadata": {
    "colab": {
     "base_uri": "https://localhost:8080/"
    },
    "id": "Mbr4vH_Xmzj1",
    "outputId": "f9e04f7b-ce03-4913-d0f6-8993706ddac8",
    "ExecuteTime": {
     "end_time": "2023-05-24T19:50:07.465346Z",
     "start_time": "2023-05-24T19:50:07.425037Z"
    }
   },
   "execution_count": 21,
   "outputs": [
    {
     "name": "stdout",
     "output_type": "stream",
     "text": [
      "(670, 25088)\n"
     ]
    }
   ]
  },
  {
   "cell_type": "code",
   "source": [
    "features_test.shape"
   ],
   "metadata": {
    "id": "NPfUBxe_tkvO",
    "colab": {
     "base_uri": "https://localhost:8080/"
    },
    "outputId": "58561eb3-24e2-44de-c6af-8f97fe462b7f",
    "ExecuteTime": {
     "end_time": "2023-05-24T19:50:09.850422Z",
     "start_time": "2023-05-24T19:50:09.832355Z"
    }
   },
   "execution_count": 22,
   "outputs": [
    {
     "data": {
      "text/plain": "(168, 7, 7, 512)"
     },
     "execution_count": 22,
     "metadata": {},
     "output_type": "execute_result"
    }
   ]
  },
  {
   "cell_type": "code",
   "source": [
    "num_train=x_train.shape[0]\n",
    "num_test=x_test.shape[0]\n",
    "print(num_train)\n",
    "print(num_test)"
   ],
   "metadata": {
    "id": "vj69fDL0tmG_",
    "colab": {
     "base_uri": "https://localhost:8080/"
    },
    "outputId": "eac2eac3-5d78-4b4c-bbfc-cd821a00dfa4",
    "ExecuteTime": {
     "end_time": "2023-05-24T19:50:11.750631Z",
     "start_time": "2023-05-24T19:50:11.732738Z"
    }
   },
   "execution_count": 23,
   "outputs": [
    {
     "name": "stdout",
     "output_type": "stream",
     "text": [
      "670\n",
      "168\n"
     ]
    }
   ]
  },
  {
   "cell_type": "code",
   "source": [
    "x_train=features_train.reshape(num_train,25088)\n",
    "x_test=features_test.reshape(num_test,25088)\n",
    "print(x_train, x_test)"
   ],
   "metadata": {
    "id": "gFeMZqUCtnpm",
    "colab": {
     "base_uri": "https://localhost:8080/"
    },
    "outputId": "4f302fff-b62b-402e-c647-cb0df8d240ef",
    "ExecuteTime": {
     "end_time": "2023-05-24T19:50:13.568805Z",
     "start_time": "2023-05-24T19:50:13.533334Z"
    }
   },
   "execution_count": 24,
   "outputs": [
    {
     "name": "stdout",
     "output_type": "stream",
     "text": [
      "[[0.        0.        0.        ... 0.        0.        0.       ]\n",
      " [0.        0.        0.        ... 0.        0.        0.       ]\n",
      " [0.        0.        0.        ... 0.        0.        0.       ]\n",
      " ...\n",
      " [0.        0.        0.        ... 0.        4.126216  0.       ]\n",
      " [0.        0.        0.        ... 0.        5.3241863 2.8400168]\n",
      " [0.        0.        0.        ... 0.        0.        0.       ]] [[0.        0.        0.        ... 0.        5.7652464 0.       ]\n",
      " [0.        0.        0.        ... 0.        0.        0.       ]\n",
      " [0.        0.        0.        ... 0.        0.        0.       ]\n",
      " ...\n",
      " [0.        0.        0.        ... 0.        0.        0.       ]\n",
      " [0.        0.        0.        ... 0.        2.3063517 0.       ]\n",
      " [0.        0.        0.        ... 0.        0.        0.       ]]\n"
     ]
    }
   ]
  },
  {
   "cell_type": "code",
   "source": [
    "from keras.models import Sequential\n",
    "from keras.layers import Conv2D,MaxPooling2D,Flatten, Dense"
   ],
   "metadata": {
    "id": "fFRps3B7tpQD",
    "ExecuteTime": {
     "end_time": "2023-05-24T19:30:30.244407Z",
     "start_time": "2023-05-24T19:30:30.228557Z"
    }
   },
   "execution_count": 20,
   "outputs": []
  },
  {
   "cell_type": "markdown",
   "source": [
    "model=Sequential([[ Dense(1024,activation='relu'),\n",
    "                   Dense(512,activation='relu'),\n",
    "                  Dense(256,activation='relu'),\n",
    "                  Dense(128,activation='relu'),\n",
    "                  Dense(5,activation='sigmoid'),\n",
    "\n",
    "]])"
   ],
   "metadata": {
    "collapsed": false
   }
  },
  {
   "cell_type": "code",
   "execution_count": 25,
   "outputs": [],
   "source": [
    "from keras import layers"
   ],
   "metadata": {
    "collapsed": false,
    "ExecuteTime": {
     "end_time": "2023-05-24T19:50:17.168268Z",
     "start_time": "2023-05-24T19:50:17.148842Z"
    }
   }
  },
  {
   "cell_type": "code",
   "execution_count": 26,
   "outputs": [],
   "source": [
    "data_augmentation = keras.Sequential(\n",
    "    [\n",
    "        layers.RandomFlip(\"horizontal\",\n",
    "                          input_shape=(224,\n",
    "                                       224,\n",
    "                                       3)),\n",
    "        layers.RandomRotation(0.1),\n",
    "        layers.RandomZoom(0.1),\n",
    "        layers.RandomBrightness(0.1),\n",
    "    ]\n",
    ")"
   ],
   "metadata": {
    "collapsed": false,
    "ExecuteTime": {
     "end_time": "2023-05-24T19:50:20.064037Z",
     "start_time": "2023-05-24T19:50:19.777161Z"
    }
   }
  },
  {
   "cell_type": "markdown",
   "source": [
    "model=keras.Sequential()\n",
    "model.add(data_augmentation)\n",
    "model.add(Dense(1024,activation='relu'))\n",
    "model.add(Dense(512,activation='relu'))\n",
    "model.add(Dense(256,activation='relu'))\n",
    "model.add(Dense(128,activation='relu'))\n",
    "model.add(Dense(5,activation='relu'))"
   ],
   "metadata": {
    "collapsed": false
   }
  },
  {
   "cell_type": "code",
   "execution_count": null,
   "outputs": [],
   "source": [],
   "metadata": {
    "collapsed": false
   }
  },
  {
   "cell_type": "code",
   "execution_count": 27,
   "outputs": [],
   "source": [
    "model = keras.Sequential()\n",
    "model.add(data_augmentation)\n",
    "model.add(layers.Flatten())\n",
    "model.add(layers.Dense(1024, activation='relu'))\n",
    "model.add(layers.Dense(512, activation='relu'))\n",
    "model.add(layers.Dense(256, activation='relu'))\n",
    "model.add(layers.Dense(128, activation='relu'))\n",
    "model.add(layers.Dense(5, activation='relu'))"
   ],
   "metadata": {
    "collapsed": false,
    "ExecuteTime": {
     "end_time": "2023-05-24T19:50:30.060072Z",
     "start_time": "2023-05-24T19:50:25.508864Z"
    }
   }
  },
  {
   "cell_type": "code",
   "execution_count": 28,
   "outputs": [],
   "source": [
    "my_callbacks = [\n",
    "    keras.callbacks.ModelCheckpoint(filepath='model.{val_accuracy:.2f}.h5')\n",
    "]"
   ],
   "metadata": {
    "collapsed": false,
    "ExecuteTime": {
     "end_time": "2023-05-24T19:50:32.130659Z",
     "start_time": "2023-05-24T19:50:32.081452Z"
    }
   }
  },
  {
   "cell_type": "code",
   "source": [
    "model.compile(optimizer='adam',loss=tf.keras.losses.SparseCategoricalCrossentropy(),metrics=['accuracy'])"
   ],
   "metadata": {
    "id": "Xmym4CjHts3D",
    "ExecuteTime": {
     "end_time": "2023-05-24T19:50:34.226208Z",
     "start_time": "2023-05-24T19:50:33.765926Z"
    }
   },
   "execution_count": 29,
   "outputs": []
  },
  {
   "cell_type": "code",
   "source": [
    "model.fit(x_train,y_train,batch_size=32,epochs=40,validation_data=(x_test,y_test),callbacks=my_callbacks)"
   ],
   "metadata": {
    "id": "jBxVq9IWtudr",
    "colab": {
     "base_uri": "https://localhost:8080/",
     "height": 732
    },
    "outputId": "acee7723-a771-4b72-942a-b879598959cc",
    "ExecuteTime": {
     "end_time": "2023-05-24T19:50:37.997012Z",
     "start_time": "2023-05-24T19:50:35.839947Z"
    }
   },
   "execution_count": 30,
   "outputs": [
    {
     "name": "stdout",
     "output_type": "stream",
     "text": [
      "Epoch 1/40\n"
     ]
    },
    {
     "ename": "ValueError",
     "evalue": "in user code:\n\n    File \"/Users/dilnazahmetzan/anaconda3/envs/capstone/lib/python3.10/site-packages/keras/engine/training.py\", line 1284, in train_function  *\n        return step_function(self, iterator)\n    File \"/Users/dilnazahmetzan/anaconda3/envs/capstone/lib/python3.10/site-packages/keras/engine/training.py\", line 1268, in step_function  **\n        outputs = model.distribute_strategy.run(run_step, args=(data,))\n    File \"/Users/dilnazahmetzan/anaconda3/envs/capstone/lib/python3.10/site-packages/keras/engine/training.py\", line 1249, in run_step  **\n        outputs = model.train_step(data)\n    File \"/Users/dilnazahmetzan/anaconda3/envs/capstone/lib/python3.10/site-packages/keras/engine/training.py\", line 1050, in train_step\n        y_pred = self(x, training=True)\n    File \"/Users/dilnazahmetzan/anaconda3/envs/capstone/lib/python3.10/site-packages/keras/utils/traceback_utils.py\", line 70, in error_handler\n        raise e.with_traceback(filtered_tb) from None\n    File \"/Users/dilnazahmetzan/anaconda3/envs/capstone/lib/python3.10/site-packages/keras/engine/input_spec.py\", line 298, in assert_input_compatibility\n        raise ValueError(\n\n    ValueError: Input 0 of layer \"sequential_1\" is incompatible with the layer: expected shape=(None, 224, 224, 3), found shape=(None, 25088)\n",
     "output_type": "error",
     "traceback": [
      "\u001B[0;31m---------------------------------------------------------------------------\u001B[0m",
      "\u001B[0;31mValueError\u001B[0m                                Traceback (most recent call last)",
      "Cell \u001B[0;32mIn[30], line 1\u001B[0m\n\u001B[0;32m----> 1\u001B[0m \u001B[43mmodel\u001B[49m\u001B[38;5;241;43m.\u001B[39;49m\u001B[43mfit\u001B[49m\u001B[43m(\u001B[49m\u001B[43mx_train\u001B[49m\u001B[43m,\u001B[49m\u001B[43my_train\u001B[49m\u001B[43m,\u001B[49m\u001B[43mbatch_size\u001B[49m\u001B[38;5;241;43m=\u001B[39;49m\u001B[38;5;241;43m32\u001B[39;49m\u001B[43m,\u001B[49m\u001B[43mepochs\u001B[49m\u001B[38;5;241;43m=\u001B[39;49m\u001B[38;5;241;43m40\u001B[39;49m\u001B[43m,\u001B[49m\u001B[43mvalidation_data\u001B[49m\u001B[38;5;241;43m=\u001B[39;49m\u001B[43m(\u001B[49m\u001B[43mx_test\u001B[49m\u001B[43m,\u001B[49m\u001B[43my_test\u001B[49m\u001B[43m)\u001B[49m\u001B[43m,\u001B[49m\u001B[43mcallbacks\u001B[49m\u001B[38;5;241;43m=\u001B[39;49m\u001B[43mmy_callbacks\u001B[49m\u001B[43m)\u001B[49m\n",
      "File \u001B[0;32m~/anaconda3/envs/capstone/lib/python3.10/site-packages/keras/utils/traceback_utils.py:70\u001B[0m, in \u001B[0;36mfilter_traceback.<locals>.error_handler\u001B[0;34m(*args, **kwargs)\u001B[0m\n\u001B[1;32m     67\u001B[0m     filtered_tb \u001B[38;5;241m=\u001B[39m _process_traceback_frames(e\u001B[38;5;241m.\u001B[39m__traceback__)\n\u001B[1;32m     68\u001B[0m     \u001B[38;5;66;03m# To get the full stack trace, call:\u001B[39;00m\n\u001B[1;32m     69\u001B[0m     \u001B[38;5;66;03m# `tf.debugging.disable_traceback_filtering()`\u001B[39;00m\n\u001B[0;32m---> 70\u001B[0m     \u001B[38;5;28;01mraise\u001B[39;00m e\u001B[38;5;241m.\u001B[39mwith_traceback(filtered_tb) \u001B[38;5;28;01mfrom\u001B[39;00m \u001B[38;5;28;01mNone\u001B[39;00m\n\u001B[1;32m     71\u001B[0m \u001B[38;5;28;01mfinally\u001B[39;00m:\n\u001B[1;32m     72\u001B[0m     \u001B[38;5;28;01mdel\u001B[39;00m filtered_tb\n",
      "File \u001B[0;32m/var/folders/xr/6c9chk7x0fq3pbmvpv8gc57m0000gn/T/__autograph_generated_file1wqgxzv7.py:15\u001B[0m, in \u001B[0;36mouter_factory.<locals>.inner_factory.<locals>.tf__train_function\u001B[0;34m(iterator)\u001B[0m\n\u001B[1;32m     13\u001B[0m \u001B[38;5;28;01mtry\u001B[39;00m:\n\u001B[1;32m     14\u001B[0m     do_return \u001B[38;5;241m=\u001B[39m \u001B[38;5;28;01mTrue\u001B[39;00m\n\u001B[0;32m---> 15\u001B[0m     retval_ \u001B[38;5;241m=\u001B[39m ag__\u001B[38;5;241m.\u001B[39mconverted_call(ag__\u001B[38;5;241m.\u001B[39mld(step_function), (ag__\u001B[38;5;241m.\u001B[39mld(\u001B[38;5;28mself\u001B[39m), ag__\u001B[38;5;241m.\u001B[39mld(iterator)), \u001B[38;5;28;01mNone\u001B[39;00m, fscope)\n\u001B[1;32m     16\u001B[0m \u001B[38;5;28;01mexcept\u001B[39;00m:\n\u001B[1;32m     17\u001B[0m     do_return \u001B[38;5;241m=\u001B[39m \u001B[38;5;28;01mFalse\u001B[39;00m\n",
      "\u001B[0;31mValueError\u001B[0m: in user code:\n\n    File \"/Users/dilnazahmetzan/anaconda3/envs/capstone/lib/python3.10/site-packages/keras/engine/training.py\", line 1284, in train_function  *\n        return step_function(self, iterator)\n    File \"/Users/dilnazahmetzan/anaconda3/envs/capstone/lib/python3.10/site-packages/keras/engine/training.py\", line 1268, in step_function  **\n        outputs = model.distribute_strategy.run(run_step, args=(data,))\n    File \"/Users/dilnazahmetzan/anaconda3/envs/capstone/lib/python3.10/site-packages/keras/engine/training.py\", line 1249, in run_step  **\n        outputs = model.train_step(data)\n    File \"/Users/dilnazahmetzan/anaconda3/envs/capstone/lib/python3.10/site-packages/keras/engine/training.py\", line 1050, in train_step\n        y_pred = self(x, training=True)\n    File \"/Users/dilnazahmetzan/anaconda3/envs/capstone/lib/python3.10/site-packages/keras/utils/traceback_utils.py\", line 70, in error_handler\n        raise e.with_traceback(filtered_tb) from None\n    File \"/Users/dilnazahmetzan/anaconda3/envs/capstone/lib/python3.10/site-packages/keras/engine/input_spec.py\", line 298, in assert_input_compatibility\n        raise ValueError(\n\n    ValueError: Input 0 of layer \"sequential_1\" is incompatible with the layer: expected shape=(None, 224, 224, 3), found shape=(None, 25088)\n"
     ]
    }
   ]
  },
  {
   "cell_type": "code",
   "source": [
    "#plt.plot(model.history.history['accuracy'],label=\"train_accuracy\")\n",
    "plt.plot(model.history.history['val_accuracy'],label=\"validation_accuracy\")\n",
    "plt.legend()\n",
    "plt.show()"
   ],
   "metadata": {
    "id": "mH6Jnr_LtwoP"
   },
   "execution_count": null,
   "outputs": []
  },
  {
   "cell_type": "code",
   "source": [
    "def load_img(img_path):\n",
    "    images=[]\n",
    "    img=cv2.imread(img_path)\n",
    "    img=cv2.resize(img,(100,100))\n",
    "    images.append(img)\n",
    "    x_test=np.asarray(images)\n",
    "    test_img=preprocess_input(x_test)\n",
    "    features_test=vgg16.predict(test_img)\n",
    "    num_test=x_test.shape[0]\n",
    "    f_img=features_test.reshape(num_test,4608)\n",
    "    \n",
    "    return f_img"
   ],
   "metadata": {
    "id": "ygsIZH-OtzEJ"
   },
   "execution_count": null,
   "outputs": []
  },
  {
   "cell_type": "code",
   "source": [
    "import pickle"
   ],
   "metadata": {
    "id": "2C2EYxNh3vAq"
   },
   "execution_count": null,
   "outputs": []
  },
  {
   "cell_type": "code",
   "source": [
    "!mkdir -p saved_model\n",
    "model.save('saved_model/skin_model')"
   ],
   "metadata": {
    "id": "xnnFMaC53wsk"
   },
   "execution_count": null,
   "outputs": []
  },
  {
   "cell_type": "code",
   "source": [
    "model = tf.keras.models.load_model('saved_model/skin_model')"
   ],
   "metadata": {
    "id": "VC_HIE7I3ygD"
   },
   "execution_count": null,
   "outputs": []
  },
  {
   "cell_type": "code",
   "source": [
    "img=load_img(\"/content/drive/MyDrive/acne2/testing/keratosis/actinic-keratosis-face-51.jpg\")"
   ],
   "metadata": {
    "id": "eadEzYEK336b"
   },
   "execution_count": null,
   "outputs": []
  },
  {
   "cell_type": "code",
   "source": [
    "img"
   ],
   "metadata": {
    "id": "frwqOK7p4CU0"
   },
   "execution_count": null,
   "outputs": []
  },
  {
   "cell_type": "code",
   "source": [
    "np.argmax(model.predict(img))"
   ],
   "metadata": {
    "id": "thXVzpMj4EC0"
   },
   "execution_count": null,
   "outputs": []
  },
  {
   "cell_type": "code",
   "source": [
    "model.save(\"my_h5_model.h5\")\n"
   ],
   "metadata": {
    "id": "ThGoek3T4D5n"
   },
   "execution_count": null,
   "outputs": []
  },
  {
   "cell_type": "code",
   "execution_count": null,
   "outputs": [],
   "source": [
    "import tensorflowjs"
   ],
   "metadata": {
    "collapsed": false
   }
  },
  {
   "cell_type": "code",
   "execution_count": null,
   "outputs": [],
   "source": [
    "!tensorflowjs_converter \\\n",
    "    --input_format=keras \\\n",
    "    model.0.h5 \\\n",
    "    my_tfjs_model_new"
   ],
   "metadata": {
    "collapsed": false
   }
  }
 ]
}
